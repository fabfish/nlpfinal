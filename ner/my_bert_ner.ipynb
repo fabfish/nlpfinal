{
 "cells": [
  {
   "attachments": {},
   "cell_type": "markdown",
   "metadata": {},
   "source": [
    "## MindSpore-BERT-NER\n",
    "\n",
    "首先解决 ipykernel 版本问题，pip install ipykernel --upgrade"
   ]
  },
  {
   "cell_type": "code",
   "execution_count": 21,
   "metadata": {},
   "outputs": [],
   "source": [
    "# import moxing as mox\n",
    "# mox.file.copy_parallel(src_url=\"obs://nlp-workspace/3.ner/src/\", dst_url='./src/') \n",
    "# mox.file.copy_parallel(src_url=\"obs://nlp-workspace/3.ner/data/\", dst_url='./data/')\n",
    "# mox.file.copy_parallel(src_url=\"obs://nlp-workspace/3.ner/pre_model/\", dst_url='./pre_model/')"
   ]
  },
  {
   "attachments": {},
   "cell_type": "markdown",
   "metadata": {},
   "source": [
    "conda install -n mindspore scikit-learn"
   ]
  },
  {
   "attachments": {},
   "cell_type": "markdown",
   "metadata": {},
   "source": [
    "### 2. 导入依赖库"
   ]
  },
  {
   "cell_type": "code",
   "execution_count": 4,
   "metadata": {},
   "outputs": [],
   "source": [
    "import os\n",
    "import argparse\n",
    "import numpy as np\n",
    "import json\n",
    "from sklearn.metrics import classification_report # 需放在前面导入\n",
    "\n",
    "import mindspore.nn as nn\n",
    "from easydict import EasyDict as edict\n",
    "import mindspore.common.dtype as mstype\n",
    "from mindspore import context\n",
    "from mindspore import log as logger\n",
    "from mindspore.common.tensor import Tensor\n",
    "import mindspore.dataset as de\n",
    "from mindspore.ops import operations as P\n",
    "import mindspore.dataset.transforms.c_transforms as C\n",
    "from mindspore.nn.wrap.loss_scale import DynamicLossScaleUpdateCell\n",
    "from mindspore.nn.optim import AdamWeightDecay\n",
    "from mindspore.train.model import Model\n",
    "from mindspore.train.callback import CheckpointConfig, ModelCheckpoint, TimeMonitor, LossMonitor\n",
    "from mindspore.train.serialization import load_checkpoint, load_param_into_net\n",
    "from mindspore.common.initializer import TruncatedNormal\n",
    "\n",
    "from src import tokenization\n",
    "from src.CRF import CRF\n",
    "from src.CRF import postprocess\n",
    "from src.cluener_evaluation import process_one_example_p, label_generation\n",
    "from src.utils import BertLearningRate\n",
    "from src.bert_for_finetune import BertFinetuneCell\n",
    "from src.config import optimizer_cfg\n",
    "from src.bert_model import BertConfig, BertModel"
   ]
  },
  {
   "cell_type": "code",
   "execution_count": 3,
   "metadata": {},
   "outputs": [],
   "source": [
    "# context.set_context(mode=context.GRAPH_MODE, device_target=\"Ascend\")\n",
    "context.set_context(mode=context.GRAPH_MODE, device_target=\"CPU\")"
   ]
  },
  {
   "attachments": {},
   "cell_type": "markdown",
   "metadata": {},
   "source": [
    "### 3. 定义参数配置"
   ]
  },
  {
   "attachments": {},
   "cell_type": "markdown",
   "metadata": {},
   "source": [
    "原来的 train file 和 eval file，checkpoint，还有 premodel 一开始没有，得从网上自己下。只能说实验文档的作用有但不多。"
   ]
  },
  {
   "cell_type": "code",
   "execution_count": 5,
   "metadata": {},
   "outputs": [],
   "source": [
    "cfg = edict({\n",
    "    'is_train': True,\n",
    "    'num_labels': 41,                 \n",
    "    'schema_file': r'./data/clue_ner/schema.json',\n",
    "    'ckpt_prefix': 'bert-ner-crf',          # 'bert-ner'  'bert-ner-crf'\n",
    "    'train_file': r'./data/clue_ner/train.tf_record', \n",
    "    'eval_file': r'./data/clue_ner/dev.tf_record',\n",
    "    # 'train_file': None, \n",
    "    # 'eval_file': None,\n",
    "    'use_crf': True,         \n",
    "\n",
    "    'epoch_num': 5,\n",
    "    'batch_size': 16,\n",
    "    'ckpt_dir': 'ckpt',\n",
    "    'pre_training_ckpt': './pre_model/bert_base.ckpt',\n",
    "    # 'pre_training_ckpt': None,\n",
    "\n",
    "    # 'finetune_ckpt': './ckpt/bert-ner-crf-5_671.ckpt', \n",
    "    # bertbilstmcrf_ascend_v170_ner_official_nlp_f1acc99.30\n",
    "    'finetune_ckpt': './ckpt/bertbilstmcrf_ascend_v170_ner_official_nlp_f1acc99.30.ckpt', \n",
    "    'label2id_file': './data/clue_ner/label2id.json',\n",
    "    'vocab_file': './data/vocab.txt',\n",
    "    'eval_out_file': 'ner_crf_result.txt'      #  ner_result.txt   ner_crf_result.txt\n",
    "})\n",
    "\n",
    "bert_net_cfg = BertConfig(\n",
    "    seq_length=128,\n",
    "    vocab_size=21128,\n",
    "    hidden_size=768,\n",
    "    num_hidden_layers=12,\n",
    "    num_attention_heads=12,\n",
    "    intermediate_size=3072,\n",
    "    hidden_act=\"gelu\",\n",
    "    hidden_dropout_prob=0.1,\n",
    "    attention_probs_dropout_prob=0.1,\n",
    "    max_position_embeddings=512,\n",
    "    type_vocab_size=2,\n",
    "    initializer_range=0.02,\n",
    "    use_relative_positions=False,\n",
    "    dtype=mstype.float32,\n",
    "    compute_type=mstype.float16\n",
    ")"
   ]
  },
  {
   "attachments": {},
   "cell_type": "markdown",
   "metadata": {},
   "source": [
    "### 4. 定义数据集加载函数"
   ]
  },
  {
   "cell_type": "code",
   "execution_count": 6,
   "metadata": {},
   "outputs": [],
   "source": [
    "def get_dataset(data_file, schema_file, batch_size):\n",
    "    '''\n",
    "    get dataset\n",
    "    '''\n",
    "    ds = de.TFRecordDataset([data_file], schema_file, columns_list=[\"input_ids\", \"input_mask\",\"segment_ids\", \"label_ids\"])\n",
    "    type_cast_op = C.TypeCast(mstype.int32)\n",
    "    ds = ds.map(input_columns=\"segment_ids\", operations=type_cast_op)\n",
    "    ds = ds.map(input_columns=\"input_mask\", operations=type_cast_op)\n",
    "    ds = ds.map(input_columns=\"input_ids\", operations=type_cast_op)\n",
    "    ds = ds.map(input_columns=\"label_ids\", operations=type_cast_op)\n",
    "    \n",
    "    # apply shuffle operation\n",
    "    buffer_size = 960\n",
    "    ds = ds.shuffle(buffer_size=buffer_size)\n",
    "\n",
    "    # apply batch operations\n",
    "    ds = ds.batch(batch_size, drop_remainder=True)\n",
    "    return ds"
   ]
  },
  {
   "attachments": {},
   "cell_type": "markdown",
   "metadata": {},
   "source": [
    "数据集测试"
   ]
  },
  {
   "attachments": {},
   "cell_type": "markdown",
   "metadata": {},
   "source": [
    "这里一开始测不了，别测了\n",
    "\n",
    "先去把 https://ascend-professional-construction-dataset.obs.cn-north-4.myhuaweicloud.com/NLP/NLP.zip 下了"
   ]
  },
  {
   "cell_type": "code",
   "execution_count": 7,
   "metadata": {},
   "outputs": [
    {
     "name": "stderr",
     "output_type": "stream",
     "text": [
      "[WARNING] ME(97019:140099197167424,MainProcess):2023-06-09-02:42:44.118.580 [mindspore/dataset/core/validator_helpers.py:806] 'TypeCast' from mindspore.dataset.transforms.c_transforms is deprecated from version 1.8 and will be removed in a future version. Use 'TypeCast' from mindspore.dataset.transforms instead.\n"
     ]
    },
    {
     "data": {
      "text/plain": [
       "Tensor(shape=[128], dtype=Int32, value= [ 101, 2512, 5865, 1291,  680, 1169, 4275, 3175, 2199, 5468, 1394, 1403,  677, 3862, 2356, 5018,  671,  704, 5277,  782, 3696, 3791, 7368, 2990, \n",
       " 6629, 6401, 6390, 8024, 3418, 2945,  100, 4510, 7723,  100, 4638, 4157, 1140, 4372, 8024,  102,    0,    0,    0,    0,    0,    0,    0,    0, \n",
       "    0,    0,    0,    0,    0,    0,    0,    0,    0,    0,    0,    0,    0,    0,    0,    0,    0,    0,    0,    0,    0,    0,    0,    0, \n",
       "    0,    0,    0,    0,    0,    0,    0,    0,    0,    0,    0,    0,    0,    0,    0,    0,    0,    0,    0,    0,    0,    0,    0,    0, \n",
       "    0,    0,    0,    0,    0,    0,    0,    0,    0,    0,    0,    0,    0,    0,    0,    0,    0,    0,    0,    0,    0,    0,    0,    0, \n",
       "    0,    0,    0,    0,    0,    0,    0,    0])"
      ]
     },
     "execution_count": 7,
     "metadata": {},
     "output_type": "execute_result"
    }
   ],
   "source": [
    "next(get_dataset(cfg.train_file, cfg.schema_file, batch_size=1).create_dict_iterator())['input_ids'][0]"
   ]
  },
  {
   "attachments": {},
   "cell_type": "markdown",
   "metadata": {},
   "source": [
    "### 5. 定义BertNER模型"
   ]
  },
  {
   "cell_type": "code",
   "execution_count": 8,
   "metadata": {},
   "outputs": [],
   "source": [
    "class BertNER(nn.Cell):\n",
    "    \"\"\"\n",
    "    Train interface for sequence labeling finetuning task.\n",
    "    \"\"\"\n",
    "    def __init__(self, config, batch_size, is_training, num_labels=11, use_crf=False, tag_to_index=None, dropout_prob=0.0,\n",
    "                 use_one_hot_embeddings=False):\n",
    "        super(BertNER, self).__init__()\n",
    "        self.bert = BertModel(config, is_training, use_one_hot_embeddings)\n",
    "        self.cast = P.Cast()\n",
    "        self.weight_init = TruncatedNormal(config.initializer_range)\n",
    "        self.log_softmax = P.LogSoftmax(axis=-1)\n",
    "        self.dtype = config.dtype\n",
    "        self.num_labels = num_labels\n",
    "        self.dense_1 = nn.Dense(config.hidden_size, self.num_labels, weight_init=self.weight_init,\n",
    "                                has_bias=True).to_float(config.compute_type)\n",
    "        self.dropout = nn.Dropout(1 - dropout_prob)\n",
    "        self.reshape = P.Reshape()\n",
    "        self.shape = (-1, config.hidden_size)\n",
    "        self.use_crf = use_crf\n",
    "        self.origin_shape = (batch_size, config.seq_length, self.num_labels)\n",
    "        if use_crf:\n",
    "            if not tag_to_index:\n",
    "                raise Exception(\"The dict for tag-index mapping should be provided for CRF.\")\n",
    "            self.loss = CRF(tag_to_index, batch_size, config.seq_length, is_training)\n",
    "        else:\n",
    "            self.loss = CrossEntropyCalculation(is_training)\n",
    "        self.num_labels = num_labels\n",
    "        self.use_crf = use_crf\n",
    "        \n",
    "    def construct(self, input_ids, input_mask, token_type_id, label_ids):\n",
    "        sequence_output, _, _ = \\\n",
    "            self.bert(input_ids, token_type_id, input_mask)\n",
    "        seq = self.dropout(sequence_output)\n",
    "        seq = self.reshape(seq, self.shape)\n",
    "        logits = self.dense_1(seq)\n",
    "        logits = self.cast(logits, self.dtype)\n",
    "        \n",
    "        if self.use_crf:\n",
    "            return_value = self.reshape(logits, self.origin_shape)\n",
    "            loss = self.loss(return_value, label_ids)\n",
    "        else:\n",
    "            return_value = self.log_softmax(logits)\n",
    "            loss = self.loss(return_value, label_ids, self.num_labels)\n",
    "        return loss"
   ]
  },
  {
   "attachments": {},
   "cell_type": "markdown",
   "metadata": {},
   "source": [
    "### 6. 加载词汇-id映射表"
   ]
  },
  {
   "cell_type": "code",
   "execution_count": 9,
   "metadata": {},
   "outputs": [
    {
     "name": "stdout",
     "output_type": "stream",
     "text": [
      "{'O': 0, 'S_address': 1, 'B_address': 2, 'M_address': 3, 'E_address': 4, 'S_book': 5, 'B_book': 6, 'M_book': 7, 'E_book': 8, 'S_company': 9, 'B_company': 10, 'M_company': 11, 'E_company': 12, 'S_game': 13, 'B_game': 14, 'M_game': 15, 'E_game': 16, 'S_government': 17, 'B_government': 18, 'M_government': 19, 'E_government': 20, 'S_movie': 21, 'B_movie': 22, 'M_movie': 23, 'E_movie': 24, 'S_name': 25, 'B_name': 26, 'M_name': 27, 'E_name': 28, 'S_organization': 29, 'B_organization': 30, 'M_organization': 31, 'E_organization': 32, 'S_position': 33, 'B_position': 34, 'M_position': 35, 'E_position': 36, 'S_scene': 37, 'B_scene': 38, 'M_scene': 39, 'E_scene': 40}\n"
     ]
    }
   ],
   "source": [
    "tag_to_index = json.loads(open(cfg.label2id_file).read())\n",
    "\n",
    "if cfg.use_crf:\n",
    "    print(tag_to_index)\n",
    "    max_val = len(tag_to_index)\n",
    "    tag_to_index[\"<START>\"] = max_val\n",
    "    tag_to_index[\"<STOP>\"] = max_val + 1\n",
    "    number_labels = len(tag_to_index)\n",
    "else:\n",
    "    number_labels = cfg.num_labels"
   ]
  },
  {
   "attachments": {},
   "cell_type": "markdown",
   "metadata": {},
   "source": [
    "### 7. 定义训练函数"
   ]
  },
  {
   "cell_type": "code",
   "execution_count": 10,
   "metadata": {},
   "outputs": [],
   "source": [
    "def train():\n",
    "    '''\n",
    "    finetune function\n",
    "    '''\n",
    "    # BertNER train for sequence labeling\n",
    "\n",
    "    netwithloss = BertNER(bert_net_cfg, cfg.batch_size, True, num_labels=number_labels,\n",
    "                          use_crf=cfg.use_crf,\n",
    "                          tag_to_index=tag_to_index, dropout_prob=0.1)\n",
    "\n",
    "    dataset = get_dataset(data_file=cfg.train_file, schema_file=cfg.schema_file, batch_size=cfg.batch_size)\n",
    "    steps_per_epoch = dataset.get_dataset_size()\n",
    "    print('steps_per_epoch:',steps_per_epoch)\n",
    "\n",
    "    # optimizer\n",
    "    steps_per_epoch = dataset.get_dataset_size()\n",
    "    lr_schedule = BertLearningRate(learning_rate=optimizer_cfg.AdamWeightDecay.learning_rate,\n",
    "                                   end_learning_rate=optimizer_cfg.AdamWeightDecay.end_learning_rate,\n",
    "                                   warmup_steps=int(steps_per_epoch * cfg.epoch_num * 0.1),\n",
    "                                   decay_steps=steps_per_epoch * cfg.epoch_num,\n",
    "                                   power=optimizer_cfg.AdamWeightDecay.power)\n",
    "    params = netwithloss.trainable_params()\n",
    "    decay_params = list(filter(optimizer_cfg.AdamWeightDecay.decay_filter, params))\n",
    "    other_params = list(filter(lambda x: not optimizer_cfg.AdamWeightDecay.decay_filter(x), params))\n",
    "    group_params = [{'params': decay_params, 'weight_decay': optimizer_cfg.AdamWeightDecay.weight_decay},\n",
    "                    {'params': other_params, 'weight_decay': 0.0}]\n",
    "    optimizer = AdamWeightDecay(group_params, lr_schedule, eps=optimizer_cfg.AdamWeightDecay.eps)\n",
    "        \n",
    "    # load checkpoint into network\n",
    "    ckpt_config = CheckpointConfig(save_checkpoint_steps=steps_per_epoch, keep_checkpoint_max=1)\n",
    "    ckpoint_cb = ModelCheckpoint(prefix=cfg.ckpt_prefix, directory=cfg.ckpt_dir, config=ckpt_config)\n",
    "    param_dict = load_checkpoint(cfg.pre_training_ckpt)\n",
    "    load_param_into_net(netwithloss, param_dict)\n",
    "\n",
    "    update_cell = DynamicLossScaleUpdateCell(loss_scale_value=2**32, scale_factor=2, scale_window=1000)\n",
    "    netwithgrads = BertFinetuneCell(netwithloss, optimizer=optimizer, scale_update_cell=update_cell)\n",
    "    model = Model(netwithgrads)\n",
    "    callbacks = [TimeMonitor(dataset.get_dataset_size()), LossMonitor(), ckpoint_cb]\n",
    "    model.train(cfg.epoch_num, dataset, callbacks=callbacks, dataset_sink_mode=True)"
   ]
  },
  {
   "attachments": {},
   "cell_type": "markdown",
   "metadata": {},
   "source": [
    "### 8. 启动训练"
   ]
  },
  {
   "attachments": {},
   "cell_type": "markdown",
   "metadata": {},
   "source": [
    "开始训练了才发现你 mindspore 得安装 gpu 或者 npu 版本的，结果文档里说 cpu 也可以，这导致代码里面 NPUAlloc 一个 API 用不了。"
   ]
  },
  {
   "attachments": {},
   "cell_type": "markdown",
   "metadata": {},
   "source": [
    "pip install https://ms-release.obs.cn-north-4.myhuaweicloud.com/1.7.1/MindSpore/cpu/x86_64/mindspore-1.7.1-cp37-cp37m-linux_x86_64.whl --trusted-host ms-release.obs.cn-north-4.myhuaweicloud.com -i https://pypi.tuna.tsinghua.edu.cn/simple \n",
    "\n",
    "只好到这个源去找 gpu 版本\n",
    "\n",
    "pip install https://ms-release.obs.cn-north-4.myhuaweicloud.com/1.7.1/MindSpore/gpu/x86_64/cuda-11.1/mindspore_gpu-1.7.1-cp37-cp37m-linux_x86_64.whl --trusted-host ms-release.obs.cn-north-4.myhuaweicloud.com -i https://pypi.tuna.tsinghua.edu.cn/simple\n",
    "\n",
    "结果发现只支持 cuda 11.1\n",
    "\n",
    "到这里我们已经意识到 docker 上跑才是最好的，可惜已经迟了。\n",
    "\n",
    "总之训练就不训练了，反正也就那样。"
   ]
  },
  {
   "cell_type": "code",
   "execution_count": 11,
   "metadata": {},
   "outputs": [
    {
     "name": "stderr",
     "output_type": "stream",
     "text": [
      "[WARNING] ME(97019:140099197167424,MainProcess):2023-06-09-02:43:16.902.251 [mindspore/common/_decorator.py:38] 'GatherV2' is deprecated from version 1.1 and will be removed in a future version, use 'Gather' instead.\n",
      "[WARNING] ME(97019:140099197167424,MainProcess):2023-06-09-02:43:17.630.671 [mindspore/dataset/core/validator_helpers.py:806] 'TypeCast' from mindspore.dataset.transforms.c_transforms is deprecated from version 1.8 and will be removed in a future version. Use 'TypeCast' from mindspore.dataset.transforms instead.\n"
     ]
    },
    {
     "name": "stdout",
     "output_type": "stream",
     "text": [
      "steps_per_epoch: 671\n"
     ]
    },
    {
     "name": "stderr",
     "output_type": "stream",
     "text": [
      "[WARNING] ME(97019:140099197167424,MainProcess):2023-06-09-02:43:19.472.515 [mindspore/train/serialization.py:736] For 'load_param_into_net', remove parameter prefix name: bert., continue to load.\n",
      "[WARNING] ME(97019:140099197167424,MainProcess):2023-06-09-02:43:19.479.681 [mindspore/train/serialization.py:714] For 'load_param_into_net', 3 parameters in the 'net' are not loaded, because they are not in the 'parameter_dict', please check whether the network structure is consistent when training and loading checkpoint.\n",
      "[WARNING] ME(97019:140099197167424,MainProcess):2023-06-09-02:43:19.480.079 [mindspore/train/serialization.py:716] dense_1.weight is not loaded.\n",
      "[WARNING] ME(97019:140099197167424,MainProcess):2023-06-09-02:43:19.480.375 [mindspore/train/serialization.py:716] dense_1.bias is not loaded.\n",
      "[WARNING] ME(97019:140099197167424,MainProcess):2023-06-09-02:43:19.480.604 [mindspore/train/serialization.py:716] loss.transitions is not loaded.\n",
      "[WARNING] UTILS(97019,7f6985a65640,python):2023-06-09-02:43:23.232.194 [mindspore/ccsrc/utils/comm_manager.cc:78] GetInstance] CommManager instance for CPU not found, return default instance.\n"
     ]
    },
    {
     "ename": "TypeError",
     "evalue": "Cannot join the return values of different branches, perhaps you need to make them equal.\nType Join Failed: dtype1 = Bool, dtype2 = Anything.\nFor more details, please refer to https://www.mindspore.cn/search?inputValue=Type%20Join%20Failed\n\nInner Message:\nThe abstract type of the return value of the current branch is AbstractTuple{element[0]: AbstractScalar(Type: Bool, Value: AnyValue, Shape: NoShape), element[1]: AbstractScalar(Type: Bool, Value: AnyValue, Shape: NoShape), element[2]: AbstractScalar(Type: Bool, Value: AnyValue, Shape: NoShape), element[3]: AbstractScalar(Type: Bool, Value: AnyValue, Shape: NoShape), element[4]: AbstractScalar(Type: Bool, Value: AnyValue, Shape: NoShape), element[5]: AbstractScalar(Type: Bool, Value: AnyValue, Shape: NoShape), element[6]: AbstractScalar(Type: Bool, Value: AnyValue, Shape: NoShape), element[7]: AbstractScalar(Type: Bool, Value: AnyValue, Shape: NoShape), element[8]: AbstractScalar(Type: Bool, Value: AnyValue, Shape: NoShape), element[9]: AbstractScalar(Type: Bool, Value: AnyValue, Shape: NoShape), element[10]: AbstractScalar(Type: Bool, Value: AnyValue, Shape: NoShape), element[11]: AbstractScalar(Type: Bool, Value: AnyValue, Shape: NoShape), element[12]: AbstractScalar(Type: Bool, Value: AnyValue, Shape: NoShape), element[13]: AbstractScalar(Type: Bool, Value: AnyValue, Shape: NoShape), element[14]: AbstractScalar(Type: Bool, Value: AnyValue, Shape: NoShape), element[15]: AbstractScalar(Type: Bool, Value: AnyValue, Shape: NoShape), element[16]: AbstractScalar(Type: Bool, Value: AnyValue, Shape: NoShape), element[17]: AbstractScalar(Type: Bool, Value: AnyValue, Shape: NoShape), element[18]: AbstractScalar(Type: Bool, Value: AnyValue, Shape: NoShape), element[19]: AbstractScalar(Type: Bool, Value: AnyValue, Shape: NoShape), element[20]: AbstractScalar(Type: Bool, Value: AnyValue, Shape: NoShape), element[21]: AbstractScalar(Type: Bool, Value: AnyValue, Shape: NoShape), element[22]: AbstractScalar(Type: Bool, Value: AnyValue, Shape: NoShape), element[23]: AbstractScalar(Type: Bool, Value: AnyValue, Shape: NoShape), element[24]: AbstractScalar(Type: Bool, Value: AnyValue, Shape: NoShape), element[25]: AbstractScalar(Type: Bool, Value: AnyValue, Shape: NoShape), element[26]: AbstractScalar(Type: Bool, Value: AnyValue, Shape: NoShape), element[27]: AbstractScalar(Type: Bool, Value: AnyValue, Shape: NoShape), element[28]: AbstractScalar(Type: Bool, Value: AnyValue, Shape: NoShape), element[29]: AbstractScalar(Type: Bool, Value: AnyValue, Shape: NoShape), element[30]: AbstractScalar(Type: Bool, Value: AnyValue, Shape: NoShape), element[31]: AbstractScalar(Type: Bool, Value: AnyValue, Shape: NoShape), element[32]: AbstractScalar(Type: Bool, Value: AnyValue, Shape: NoShape), element[33]: AbstractScalar(Type: Bool, Value: AnyValue, Shape: NoShape), element[34]: AbstractScalar(Type: Bool, Value: AnyValue, Shape: NoShape), element[35]: AbstractScalar(Type: Bool, Value: AnyValue, Shape: NoShape), element[36]: AbstractScalar(Type: Bool, Value: AnyValue, Shape: NoShape), element[37]: AbstractScalar(Type: Bool, Value: AnyValue, Shape: NoShape), element[38]: AbstractScalar(Type: Bool, Value: AnyValue, Shape: NoShape), element[39]: AbstractScalar(Type: Bool, Value: AnyValue, Shape: NoShape), element[40]: AbstractScalar(Type: Bool, Value: AnyValue, Shape: NoShape), element[41]: AbstractScalar(Type: Bool, Value: AnyValue, Shape: NoShape), element[42]: AbstractScalar(Type: Bool, Value: AnyValue, Shape: NoShape), element[43]: AbstractScalar(Type: Bool, Value: AnyValue, Shape: NoShape), element[44]: AbstractScalar(Type: Bool, Value: AnyValue, Shape: NoShape), element[45]: AbstractScalar(Type: Bool, Value: AnyValue, Shape: NoShape), element[46]: AbstractScalar(Type: Bool, Value: AnyValue, Shape: NoShape), element[47]: AbstractScalar(Type: Bool, Value: AnyValue, Shape: NoShape), element[48]: AbstractScalar(Type: Bool, Value: AnyValue, Shape: NoShape), element[49]: AbstractScalar(Type: Bool, Value: AnyValue, Shape: NoShape), element[50]: AbstractScalar(Type: Bool, Value: AnyValue, Shape: NoShape), element[51]: AbstractScalar(Type: Bool, Value: AnyValue, Shape: NoShape), element[52]: AbstractScalar(Type: Bool, Value: AnyValue, Shape: NoShape), element[53]: AbstractScalar(Type: Bool, Value: AnyValue, Shape: NoShape), element[54]: AbstractScalar(Type: Bool, Value: AnyValue, Shape: NoShape), element[55]: AbstractScalar(Type: Bool, Value: AnyValue, Shape: NoShape), element[56]: AbstractScalar(Type: Bool, Value: AnyValue, Shape: NoShape), element[57]: AbstractScalar(Type: Bool, Value: AnyValue, Shape: NoShape), element[58]: AbstractScalar(Type: Bool, Value: AnyValue, Shape: NoShape), element[59]: AbstractScalar(Type: Bool, Value: AnyValue, Shape: NoShape), element[60]: AbstractScalar(Type: Bool, Value: AnyValue, Shape: NoShape), element[61]: AbstractScalar(Type: Bool, Value: AnyValue, Shape: NoShape), element[62]: AbstractScalar(Type: Bool, Value: AnyValue, Shape: NoShape), element[63]: AbstractScalar(Type: Bool, Value: AnyValue, Shape: NoShape), element[64]: AbstractScalar(Type: Bool, Value: AnyValue, Shape: NoShape), element[65]: AbstractScalar(Type: Bool, Value: AnyValue, Shape: NoShape), element[66]: AbstractScalar(Type: Bool, Value: AnyValue, Shape: NoShape), element[67]: AbstractScalar(Type: Bool, Value: AnyValue, Shape: NoShape), element[68]: AbstractScalar(Type: Bool, Value: AnyValue, Shape: NoShape), element[69]: AbstractScalar(Type: Bool, Value: AnyValue, Shape: NoShape), element[70]: AbstractScalar(Type: Bool, Value: AnyValue, Shape: NoShape), element[71]: AbstractScalar(Type: Bool, Value: AnyValue, Shape: NoShape), element[72]: AbstractScalar(Type: Bool, Value: AnyValue, Shape: NoShape), element[73]: AbstractScalar(Type: Bool, Value: AnyValue, Shape: NoShape), element[74]: AbstractScalar(Type: Bool, Value: AnyValue, Shape: NoShape), element[75]: AbstractScalar(Type: Bool, Value: AnyValue, Shape: NoShape), element[76]: AbstractScalar(Type: Bool, Value: AnyValue, Shape: NoShape), element[77]: AbstractScalar(Type: Bool, Value: AnyValue, Shape: NoShape), element[78]: AbstractScalar(Type: Bool, Value: AnyValue, Shape: NoShape), element[79]: AbstractScalar(Type: Bool, Value: AnyValue, Shape: NoShape), element[80]: AbstractScalar(Type: Bool, Value: AnyValue, Shape: NoShape), element[81]: AbstractScalar(Type: Bool, Value: AnyValue, Shape: NoShape), element[82]: AbstractScalar(Type: Bool, Value: AnyValue, Shape: NoShape), element[83]: AbstractScalar(Type: Bool, Value: AnyValue, Shape: NoShape), element[84]: AbstractScalar(Type: Bool, Value: AnyValue, Shape: NoShape), element[85]: AbstractScalar(Type: Bool, Value: AnyValue, Shape: NoShape), element[86]: AbstractScalar(Type: Bool, Value: AnyValue, Shape: NoShape), element[87]: AbstractScalar(Type: Bool, Value: AnyValue, Shape: NoShape), element[88]: AbstractScalar(Type: Bool, Value: AnyValue, Shape: NoShape), element[89]: AbstractScalar(Type: Bool, Value: AnyValue, Shape: NoShape), element[90]: AbstractScalar(Type: Bool, Value: AnyValue, Shape: NoShape), element[91]: AbstractScalar(Type: Bool, Value: AnyValue, Shape: NoShape), element[92]: AbstractScalar(Type: Bool, Value: AnyValue, Shape: NoShape), element[93]: AbstractScalar(Type: Bool, Value: AnyValue, Shape: NoShape), element[94]: AbstractScalar(Type: Bool, Value: AnyValue, Shape: NoShape), element[95]: AbstractScalar(Type: Bool, Value: AnyValue, Shape: NoShape), element[96]: AbstractScalar(Type: Bool, Value: AnyValue, Shape: NoShape), element[97]: AbstractScalar(Type: Bool, Value: AnyValue, Shape: NoShape), element[98]: AbstractScalar(Type: Bool, Value: AnyValue, Shape: NoShape), element[99]: AbstractScalar(Type: Bool, Value: AnyValue, Shape: NoShape), element[100]: AbstractScalar(Type: Bool, Value: AnyValue, Shape: NoShape), element[101]: AbstractScalar(Type: Bool, Value: AnyValue, Shape: NoShape), element[102]: AbstractScalar(Type: Bool, Value: AnyValue, Shape: NoShape), element[103]: AbstractScalar(Type: Bool, Value: AnyValue, Shape: NoShape), element[104]: AbstractScalar(Type: Bool, Value: AnyValue, Shape: NoShape), element[105]: AbstractScalar(Type: Bool, Value: AnyValue, Shape: NoShape), element[106]: AbstractScalar(Type: Bool, Value: AnyValue, Shape: NoShape), element[107]: AbstractScalar(Type: Bool, Value: AnyValue, Shape: NoShape), element[108]: AbstractScalar(Type: Bool, Value: AnyValue, Shape: NoShape), element[109]: AbstractScalar(Type: Bool, Value: AnyValue, Shape: NoShape), element[110]: AbstractScalar(Type: Bool, Value: AnyValue, Shape: NoShape), element[111]: AbstractScalar(Type: Bool, Value: AnyValue, Shape: NoShape), element[112]: AbstractScalar(Type: Bool, Value: AnyValue, Shape: NoShape), element[113]: AbstractScalar(Type: Bool, Value: AnyValue, Shape: NoShape), element[114]: AbstractScalar(Type: Bool, Value: AnyValue, Shape: NoShape), element[115]: AbstractScalar(Type: Bool, Value: AnyValue, Shape: NoShape), element[116]: AbstractScalar(Type: Bool, Value: AnyValue, Shape: NoShape), element[117]: AbstractScalar(Type: Bool, Value: AnyValue, Shape: NoShape), element[118]: AbstractScalar(Type: Bool, Value: AnyValue, Shape: NoShape), element[119]: AbstractScalar(Type: Bool, Value: AnyValue, Shape: NoShape), element[120]: AbstractScalar(Type: Bool, Value: AnyValue, Shape: NoShape), element[121]: AbstractScalar(Type: Bool, Value: AnyValue, Shape: NoShape), element[122]: AbstractScalar(Type: Bool, Value: AnyValue, Shape: NoShape), element[123]: AbstractScalar(Type: Bool, Value: AnyValue, Shape: NoShape), element[124]: AbstractScalar(Type: Bool, Value: AnyValue, Shape: NoShape), element[125]: AbstractScalar(Type: Bool, Value: AnyValue, Shape: NoShape), element[126]: AbstractScalar(Type: Bool, Value: AnyValue, Shape: NoShape), element[127]: AbstractScalar(Type: Bool, Value: AnyValue, Shape: NoShape), element[128]: AbstractScalar(Type: Bool, Value: AnyValue, Shape: NoShape), element[129]: AbstractScalar(Type: Bool, Value: AnyValue, Shape: NoShape), element[130]: AbstractScalar(Type: Bool, Value: AnyValue, Shape: NoShape), element[131]: AbstractScalar(Type: Bool, Value: AnyValue, Shape: NoShape), element[132]: AbstractScalar(Type: Bool, Value: AnyValue, Shape: NoShape), element[133]: AbstractScalar(Type: Bool, Value: AnyValue, Shape: NoShape), element[134]: AbstractScalar(Type: Bool, Value: AnyValue, Shape: NoShape), element[135]: AbstractScalar(Type: Bool, Value: AnyValue, Shape: NoShape), element[136]: AbstractScalar(Type: Bool, Value: AnyValue, Shape: NoShape), element[137]: AbstractScalar(Type: Bool, Value: AnyValue, Shape: NoShape), element[138]: AbstractScalar(Type: Bool, Value: AnyValue, Shape: NoShape), element[139]: AbstractScalar(Type: Bool, Value: AnyValue, Shape: NoShape), element[140]: AbstractScalar(Type: Bool, Value: AnyValue, Shape: NoShape), element[141]: AbstractScalar(Type: Bool, Value: AnyValue, Shape: NoShape), element[142]: AbstractScalar(Type: Bool, Value: AnyValue, Shape: NoShape), element[143]: AbstractScalar(Type: Bool, Value: AnyValue, Shape: NoShape), element[144]: AbstractScalar(Type: Bool, Value: AnyValue, Shape: NoShape), element[145]: AbstractScalar(Type: Bool, Value: AnyValue, Shape: NoShape), element[146]: AbstractScalar(Type: Bool, Value: AnyValue, Shape: NoShape), element[147]: AbstractScalar(Type: Bool, Value: AnyValue, Shape: NoShape), element[148]: AbstractScalar(Type: Bool, Value: AnyValue, Shape: NoShape), element[149]: AbstractScalar(Type: Bool, Value: AnyValue, Shape: NoShape), element[150]: AbstractScalar(Type: Bool, Value: AnyValue, Shape: NoShape), element[151]: AbstractScalar(Type: Bool, Value: AnyValue, Shape: NoShape), element[152]: AbstractScalar(Type: Bool, Value: AnyValue, Shape: NoShape), element[153]: AbstractScalar(Type: Bool, Value: AnyValue, Shape: NoShape), element[154]: AbstractScalar(Type: Bool, Value: AnyValue, Shape: NoShape), element[155]: AbstractScalar(Type: Bool, Value: AnyValue, Shape: NoShape), element[156]: AbstractScalar(Type: Bool, Value: AnyValue, Shape: NoShape), element[157]: AbstractScalar(Type: Bool, Value: AnyValue, Shape: NoShape), element[158]: AbstractScalar(Type: Bool, Value: AnyValue, Shape: NoShape), element[159]: AbstractScalar(Type: Bool, Value: AnyValue, Shape: NoShape), element[160]: AbstractScalar(Type: Bool, Value: AnyValue, Shape: NoShape), element[161]: AbstractScalar(Type: Bool, Value: AnyValue, Shape: NoShape), element[162]: AbstractScalar(Type: Bool, Value: AnyValue, Shape: NoShape), element[163]: AbstractScalar(Type: Bool, Value: AnyValue, Shape: NoShape), element[164]: AbstractScalar(Type: Bool, Value: AnyValue, Shape: NoShape), element[165]: AbstractScalar(Type: Bool, Value: AnyValue, Shape: NoShape), element[166]: AbstractScalar(Type: Bool, Value: AnyValue, Shape: NoShape), element[167]: AbstractScalar(Type: Bool, Value: AnyValue, Shape: NoShape), element[168]: AbstractScalar(Type: Bool, Value: AnyValue, Shape: NoShape), element[169]: AbstractScalar(Type: Bool, Value: AnyValue, Shape: NoShape), element[170]: AbstractScalar(Type: Bool, Value: AnyValue, Shape: NoShape), element[171]: AbstractScalar(Type: Bool, Value: AnyValue, Shape: NoShape), element[172]: AbstractScalar(Type: Bool, Value: AnyValue, Shape: NoShape), element[173]: AbstractScalar(Type: Bool, Value: AnyValue, Shape: NoShape), element[174]: AbstractScalar(Type: Bool, Value: AnyValue, Shape: NoShape), element[175]: AbstractScalar(Type: Bool, Value: AnyValue, Shape: NoShape), element[176]: AbstractScalar(Type: Bool, Value: AnyValue, Shape: NoShape), element[177]: AbstractScalar(Type: Bool, Value: AnyValue, Shape: NoShape), element[178]: AbstractScalar(Type: Bool, Value: AnyValue, Shape: NoShape), element[179]: AbstractScalar(Type: Bool, Value: AnyValue, Shape: NoShape), element[180]: AbstractScalar(Type: Bool, Value: AnyValue, Shape: NoShape), element[181]: AbstractScalar(Type: Bool, Value: AnyValue, Shape: NoShape), element[182]: AbstractScalar(Type: Bool, Value: AnyValue, Shape: NoShape), element[183]: AbstractScalar(Type: Bool, Value: AnyValue, Shape: NoShape), element[184]: AbstractScalar(Type: Bool, Value: AnyValue, Shape: NoShape), element[185]: AbstractScalar(Type: Bool, Value: AnyValue, Shape: NoShape), element[186]: AbstractScalar(Type: Bool, Value: AnyValue, Shape: NoShape), element[187]: AbstractScalar(Type: Bool, Value: AnyValue, Shape: NoShape), element[188]: AbstractScalar(Type: Bool, Value: AnyValue, Shape: NoShape), element[189]: AbstractScalar(Type: Bool, Value: AnyValue, Shape: NoShape), element[190]: AbstractScalar(Type: Bool, Value: AnyValue, Shape: NoShape), element[191]: AbstractScalar(Type: Bool, Value: AnyValue, Shape: NoShape), element[192]: AbstractScalar(Type: Bool, Value: AnyValue, Shape: NoShape), element[193]: AbstractScalar(Type: Bool, Value: AnyValue, Shape: NoShape), element[194]: AbstractScalar(Type: Bool, Value: AnyValue, Shape: NoShape), element[195]: AbstractScalar(Type: Bool, Value: AnyValue, Shape: NoShape), element[196]: AbstractScalar(Type: Bool, Value: AnyValue, Shape: NoShape), element[197]: AbstractScalar(Type: Bool, Value: AnyValue, Shape: NoShape), element[198]: AbstractScalar(Type: Bool, Value: AnyValue, Shape: NoShape), element[199]: AbstractScalar(Type: Bool, Value: AnyValue, Shape: NoShape), element[200]: AbstractScalar(Type: Bool, Value: AnyValue, Shape: NoShape), element[201]: AbstractScalar(Type: Bool, Value: AnyValue, Shape: NoShape), sequence_nodes: {@hyper_map.50:optim_result{[0]: ValueNode<Primitive> MakeTuple, [1]: optim_result, [2]: optim_result, [3]: optim_result, [4]: optim_result, [5]: optim_result, [6]: optim_result, [7]: optim_result, [8]: optim_result, [9]: optim_result, [10]: optim_result, [11]: optim_result, [12]: optim_result, [13]: optim_result, [14]: optim_result, [15]: optim_result, [16]: optim_result, [17]: optim_result, [18]: optim_result, [19]: optim_result, [20]: optim_result, [21]: optim_result, [22]: optim_result, [23]: optim_result, [24]: optim_result, [25]: optim_result, [26]: optim_result, [27]: optim_result, [28]: optim_result, [29]: optim_result, [30]: optim_result, [31]: optim_result, [32]: optim_result, [33]: optim_result, [34]: optim_result, [35]: optim_result, [36]: optim_result, [37]: optim_result, [38]: optim_result, [39]: optim_result, [40]: optim_result, [41]: optim_result, [42]: optim_result, [43]: optim_result, [44]: optim_result, [45]: optim_result, [46]: optim_result, [47]: optim_result, [48]: optim_result, [49]: optim_result, [50]: optim_result, [51]: optim_result, [52]: optim_result, [53]: optim_result, [54]: optim_result, [55]: optim_result, [56]: optim_result, [57]: optim_result, [58]: optim_result, [59]: optim_result, [60]: optim_result, [61]: optim_result, [62]: optim_result, [63]: optim_result, [64]: optim_result, [65]: optim_result, [66]: optim_result, [67]: optim_result, [68]: optim_result, [69]: optim_result, [70]: optim_result, [71]: optim_result, [72]: optim_result, [73]: optim_result, [74]: optim_result, [75]: optim_result, [76]: optim_result, [77]: optim_result, [78]: optim_result, [79]: optim_result, [80]: optim_result, [81]: optim_result, [82]: optim_result, [83]: optim_result, [84]: optim_result, [85]: optim_result, [86]: optim_result, [87]: optim_result, [88]: optim_result, [89]: optim_result, [90]: optim_result, [91]: optim_result, [92]: optim_result, [93]: optim_result, [94]: optim_result, [95]: optim_result, [96]: optim_result, [97]: optim_result, [98]: optim_result, [99]: optim_result, [100]: optim_result, [101]: optim_result, [102]: optim_result, [103]: optim_result, [104]: optim_result, [105]: optim_result, [106]: optim_result, [107]: optim_result, [108]: optim_result, [109]: optim_result, [110]: optim_result, [111]: optim_result, [112]: optim_result, [113]: optim_result, [114]: optim_result, [115]: optim_result, [116]: optim_result, [117]: optim_result, [118]: optim_result, [119]: optim_result, [120]: optim_result, [121]: optim_result, [122]: optim_result, [123]: optim_result, [124]: optim_result, [125]: optim_result, [126]: optim_result, [127]: optim_result, [128]: optim_result, [129]: optim_result, [130]: optim_result, [131]: optim_result, [132]: optim_result, [133]: optim_result, [134]: optim_result, [135]: optim_result, [136]: optim_result, [137]: optim_result, [138]: optim_result, [139]: optim_result, [140]: optim_result, [141]: optim_result, [142]: optim_result, [143]: optim_result, [144]: optim_result, [145]: optim_result, [146]: optim_result, [147]: optim_result, [148]: optim_result, [149]: optim_result, [150]: optim_result, [151]: optim_result, [152]: optim_result, [153]: optim_result, [154]: optim_result, [155]: optim_result, [156]: optim_result, [157]: optim_result, [158]: optim_result, [159]: optim_result, [160]: optim_result, [161]: optim_result, [162]: optim_result, [163]: optim_result, [164]: optim_result, [165]: optim_result, [166]: optim_result, [167]: optim_result, [168]: optim_result, [169]: optim_result, [170]: optim_result, [171]: optim_result, [172]: optim_result, [173]: optim_result, [174]: optim_result, [175]: optim_result, [176]: optim_result, [177]: optim_result, [178]: optim_result, [179]: optim_result, [180]: optim_result, [181]: optim_result, [182]: optim_result, [183]: optim_result, [184]: optim_result, [185]: optim_result, [186]: optim_result, [187]: optim_result, [188]: optim_result, [189]: optim_result, [190]: optim_result, [191]: optim_result, [192]: optim_result, [193]: optim_result, [194]: optim_result, [195]: optim_result, [196]: optim_result, [197]: optim_result, [198]: optim_result, [199]: optim_result, [200]: optim_result, [201]: optim_result, [202]: optim_result}, elements_use_flags: {ptr: 0x7f697caf65a0, value: [const vector][0, 0, 0, 0, 0, 0, 0, 0, 0, 0, 0, 0, 0, 0, 0, 0, 0, 0, 0, 0, 0, 0, 0, 0, 0, 0, 0, 0, 0, 0, 0, 0, 0, 0, 0, 0, 0, 0, 0, 0, 0, 0, 0, 0, 0, 0, 0, 0, 0, 0, 0, 0, 0, 0, 0, 0, 0, 0, 0, 0, 0, 0, 0, 0, 0, 0, 0, 0, 0, 0, 0, 0, 0, 0, 0, 0, 0, 0, 0, 0, 0, 0, 0, 0, 0, 0, 0, 0, 0, 0, 0, 0, 0, 0, 0, 0, 0, 0, 0, 0, 0, 0, 0, 0, 0, 0, 0, 0, 0, 0, 0, 0, 0, 0, 0, 0, 0, 0, 0, 0, 0, 0, 0, 0, 0, 0, 0, 0, 0, 0, 0, 0, 0, 0, 0, 0, 0, 0, 0, 0, 0, 0, 0, 0, 0, 0, 0, 0, 0, 0, 0, 0, 0, 0, 0, 0, 0, 0, 0, 0, 0, 0, 0, 0, 0, 0, 0, 0, 0, 0, 0, 0, 0, 0, 0, 0, 0, 0, 0, 0, 0, 0, 0, 0, 0, 0, 0, 0, 0, 0, 0, 0, 0, 0, 0, 0, 0, 0, 0, 0, 0, 0]}}}, and that of the previous branch is AbstractScalar(Type: Bool, Value: false, Shape: NoShape).\nThe node is @↓↓↓↓↓↓Default.51:[CNode]52{[0]: @↓↓↓↓↓↓Default.51:[CNode]53{[0]: ValueNode<Primitive> Switch, [1]: [CNode]116, [2]: ValueNode<FuncGraph> ✓↓↓↓↓↓↓Default.43, [3]: ValueNode<FuncGraph> ✗↓↓↓↓↓↓Default.44}}, true branch: ✓↓↓↓↓↓↓Default.43, false branch: ✗↓↓↓↓↓↓Default.44\n\n----------------------------------------------------\n- The Traceback of Net Construct Code:\n----------------------------------------------------\nThe function call stack (See file '/home/fish/Documents/GitHub/nlpfinal/ner/rank_0/om/analyze_fail.dat' for more details. Get instructions about `analyze_fail.dat` at https://www.mindspore.cn/search?inputValue=analyze_fail.dat):\n# 0 In file /home/fish/Documents/GitHub/nlpfinal/ner/src/bert_for_finetune.py:216\n        if overflow:\n\n----------------------------------------------------\n- C++ Call Stack: (For framework developers)\n----------------------------------------------------\nmindspore/ccsrc/pipeline/jit/static_analysis/static_analysis.cc:847 ProcessEvalResults\n",
     "output_type": "error",
     "traceback": [
      "\u001b[0;31m---------------------------------------------------------------------------\u001b[0m",
      "\u001b[0;31mTypeError\u001b[0m                                 Traceback (most recent call last)",
      "\u001b[0;32m/tmp/ipykernel_97019/3364925475.py\u001b[0m in \u001b[0;36m<module>\u001b[0;34m\u001b[0m\n\u001b[0;32m----> 1\u001b[0;31m \u001b[0mtrain\u001b[0m\u001b[0;34m(\u001b[0m\u001b[0;34m)\u001b[0m\u001b[0;34m\u001b[0m\u001b[0;34m\u001b[0m\u001b[0m\n\u001b[0m",
      "\u001b[0;32m/tmp/ipykernel_97019/3387279777.py\u001b[0m in \u001b[0;36mtrain\u001b[0;34m()\u001b[0m\n\u001b[1;32m     37\u001b[0m     \u001b[0mmodel\u001b[0m \u001b[0;34m=\u001b[0m \u001b[0mModel\u001b[0m\u001b[0;34m(\u001b[0m\u001b[0mnetwithgrads\u001b[0m\u001b[0;34m)\u001b[0m\u001b[0;34m\u001b[0m\u001b[0;34m\u001b[0m\u001b[0m\n\u001b[1;32m     38\u001b[0m     \u001b[0mcallbacks\u001b[0m \u001b[0;34m=\u001b[0m \u001b[0;34m[\u001b[0m\u001b[0mTimeMonitor\u001b[0m\u001b[0;34m(\u001b[0m\u001b[0mdataset\u001b[0m\u001b[0;34m.\u001b[0m\u001b[0mget_dataset_size\u001b[0m\u001b[0;34m(\u001b[0m\u001b[0;34m)\u001b[0m\u001b[0;34m)\u001b[0m\u001b[0;34m,\u001b[0m \u001b[0mLossMonitor\u001b[0m\u001b[0;34m(\u001b[0m\u001b[0;34m)\u001b[0m\u001b[0;34m,\u001b[0m \u001b[0mckpoint_cb\u001b[0m\u001b[0;34m]\u001b[0m\u001b[0;34m\u001b[0m\u001b[0;34m\u001b[0m\u001b[0m\n\u001b[0;32m---> 39\u001b[0;31m     \u001b[0mmodel\u001b[0m\u001b[0;34m.\u001b[0m\u001b[0mtrain\u001b[0m\u001b[0;34m(\u001b[0m\u001b[0mcfg\u001b[0m\u001b[0;34m.\u001b[0m\u001b[0mepoch_num\u001b[0m\u001b[0;34m,\u001b[0m \u001b[0mdataset\u001b[0m\u001b[0;34m,\u001b[0m \u001b[0mcallbacks\u001b[0m\u001b[0;34m=\u001b[0m\u001b[0mcallbacks\u001b[0m\u001b[0;34m,\u001b[0m \u001b[0mdataset_sink_mode\u001b[0m\u001b[0;34m=\u001b[0m\u001b[0;32mTrue\u001b[0m\u001b[0;34m)\u001b[0m\u001b[0;34m\u001b[0m\u001b[0;34m\u001b[0m\u001b[0m\n\u001b[0m",
      "\u001b[0;32m~/anaconda3/envs/mindspore/lib/python3.7/site-packages/mindspore/train/model.py\u001b[0m in \u001b[0;36mtrain\u001b[0;34m(self, epoch, train_dataset, callbacks, dataset_sink_mode, sink_size, initial_epoch)\u001b[0m\n\u001b[1;32m   1049\u001b[0m                     \u001b[0mdataset_sink_mode\u001b[0m\u001b[0;34m=\u001b[0m\u001b[0mdataset_sink_mode\u001b[0m\u001b[0;34m,\u001b[0m\u001b[0;34m\u001b[0m\u001b[0;34m\u001b[0m\u001b[0m\n\u001b[1;32m   1050\u001b[0m                     \u001b[0msink_size\u001b[0m\u001b[0;34m=\u001b[0m\u001b[0msink_size\u001b[0m\u001b[0;34m,\u001b[0m\u001b[0;34m\u001b[0m\u001b[0;34m\u001b[0m\u001b[0m\n\u001b[0;32m-> 1051\u001b[0;31m                     initial_epoch=initial_epoch)\n\u001b[0m\u001b[1;32m   1052\u001b[0m \u001b[0;34m\u001b[0m\u001b[0m\n\u001b[1;32m   1053\u001b[0m         \u001b[0;31m# When it's Parameter Server training and using MindRT,\u001b[0m\u001b[0;34m\u001b[0m\u001b[0;34m\u001b[0m\u001b[0;34m\u001b[0m\u001b[0m\n",
      "\u001b[0;32m~/anaconda3/envs/mindspore/lib/python3.7/site-packages/mindspore/train/model.py\u001b[0m in \u001b[0;36mwrapper\u001b[0;34m(self, *args, **kwargs)\u001b[0m\n\u001b[1;32m     96\u001b[0m                 \u001b[0;32mraise\u001b[0m \u001b[0me\u001b[0m\u001b[0;34m\u001b[0m\u001b[0;34m\u001b[0m\u001b[0m\n\u001b[1;32m     97\u001b[0m         \u001b[0;32melse\u001b[0m\u001b[0;34m:\u001b[0m\u001b[0;34m\u001b[0m\u001b[0;34m\u001b[0m\u001b[0m\n\u001b[0;32m---> 98\u001b[0;31m             \u001b[0mfunc\u001b[0m\u001b[0;34m(\u001b[0m\u001b[0mself\u001b[0m\u001b[0;34m,\u001b[0m \u001b[0;34m*\u001b[0m\u001b[0margs\u001b[0m\u001b[0;34m,\u001b[0m \u001b[0;34m**\u001b[0m\u001b[0mkwargs\u001b[0m\u001b[0;34m)\u001b[0m\u001b[0;34m\u001b[0m\u001b[0;34m\u001b[0m\u001b[0m\n\u001b[0m\u001b[1;32m     99\u001b[0m     \u001b[0;32mreturn\u001b[0m \u001b[0mwrapper\u001b[0m\u001b[0;34m\u001b[0m\u001b[0;34m\u001b[0m\u001b[0m\n\u001b[1;32m    100\u001b[0m \u001b[0;34m\u001b[0m\u001b[0m\n",
      "\u001b[0;32m~/anaconda3/envs/mindspore/lib/python3.7/site-packages/mindspore/train/model.py\u001b[0m in \u001b[0;36m_train\u001b[0;34m(self, epoch, train_dataset, callbacks, dataset_sink_mode, sink_size, initial_epoch, valid_dataset, valid_frequency, valid_dataset_sink_mode)\u001b[0m\n\u001b[1;32m    620\u001b[0m                 logger.info(\"The CPU cannot support dataset sink mode currently.\"\n\u001b[1;32m    621\u001b[0m                             \"So the training process will be performed with dataset not sink.\")\n\u001b[0;32m--> 622\u001b[0;31m                 \u001b[0mself\u001b[0m\u001b[0;34m.\u001b[0m\u001b[0m_train_process\u001b[0m\u001b[0;34m(\u001b[0m\u001b[0mepoch\u001b[0m\u001b[0;34m,\u001b[0m \u001b[0mtrain_dataset\u001b[0m\u001b[0;34m,\u001b[0m \u001b[0mlist_callback\u001b[0m\u001b[0;34m,\u001b[0m \u001b[0mcb_params\u001b[0m\u001b[0;34m,\u001b[0m \u001b[0minitial_epoch\u001b[0m\u001b[0;34m,\u001b[0m \u001b[0mvalid_infos\u001b[0m\u001b[0;34m)\u001b[0m\u001b[0;34m\u001b[0m\u001b[0;34m\u001b[0m\u001b[0m\n\u001b[0m\u001b[1;32m    623\u001b[0m             \u001b[0;32melse\u001b[0m\u001b[0;34m:\u001b[0m\u001b[0;34m\u001b[0m\u001b[0;34m\u001b[0m\u001b[0m\n\u001b[1;32m    624\u001b[0m                 self._train_dataset_sink_process(epoch, train_dataset, list_callback,\n",
      "\u001b[0;32m~/anaconda3/envs/mindspore/lib/python3.7/site-packages/mindspore/train/model.py\u001b[0m in \u001b[0;36m_train_process\u001b[0;34m(self, epoch, train_dataset, list_callback, cb_params, initial_epoch, valid_infos)\u001b[0m\n\u001b[1;32m    907\u001b[0m                 \u001b[0mlist_callback\u001b[0m\u001b[0;34m.\u001b[0m\u001b[0mon_train_step_begin\u001b[0m\u001b[0;34m(\u001b[0m\u001b[0mrun_context\u001b[0m\u001b[0;34m)\u001b[0m\u001b[0;34m\u001b[0m\u001b[0;34m\u001b[0m\u001b[0m\n\u001b[1;32m    908\u001b[0m                 \u001b[0mself\u001b[0m\u001b[0;34m.\u001b[0m\u001b[0m_check_network_mode\u001b[0m\u001b[0;34m(\u001b[0m\u001b[0mself\u001b[0m\u001b[0;34m.\u001b[0m\u001b[0m_train_network\u001b[0m\u001b[0;34m,\u001b[0m \u001b[0;32mTrue\u001b[0m\u001b[0;34m)\u001b[0m\u001b[0;34m\u001b[0m\u001b[0;34m\u001b[0m\u001b[0m\n\u001b[0;32m--> 909\u001b[0;31m                 \u001b[0moutputs\u001b[0m \u001b[0;34m=\u001b[0m \u001b[0mself\u001b[0m\u001b[0;34m.\u001b[0m\u001b[0m_train_network\u001b[0m\u001b[0;34m(\u001b[0m\u001b[0;34m*\u001b[0m\u001b[0mnext_element\u001b[0m\u001b[0;34m)\u001b[0m\u001b[0;34m\u001b[0m\u001b[0;34m\u001b[0m\u001b[0m\n\u001b[0m\u001b[1;32m    910\u001b[0m                 \u001b[0mcb_params\u001b[0m\u001b[0;34m.\u001b[0m\u001b[0mnet_outputs\u001b[0m \u001b[0;34m=\u001b[0m \u001b[0moutputs\u001b[0m\u001b[0;34m\u001b[0m\u001b[0;34m\u001b[0m\u001b[0m\n\u001b[1;32m    911\u001b[0m                 \u001b[0;32mif\u001b[0m \u001b[0mself\u001b[0m\u001b[0;34m.\u001b[0m\u001b[0m_loss_scale_manager\u001b[0m \u001b[0;32mand\u001b[0m \u001b[0mself\u001b[0m\u001b[0;34m.\u001b[0m\u001b[0m_loss_scale_manager\u001b[0m\u001b[0;34m.\u001b[0m\u001b[0mget_drop_overflow_update\u001b[0m\u001b[0;34m(\u001b[0m\u001b[0;34m)\u001b[0m\u001b[0;34m:\u001b[0m\u001b[0;34m\u001b[0m\u001b[0;34m\u001b[0m\u001b[0m\n",
      "\u001b[0;32m~/anaconda3/envs/mindspore/lib/python3.7/site-packages/mindspore/nn/cell.py\u001b[0m in \u001b[0;36m__call__\u001b[0;34m(self, *args, **kwargs)\u001b[0m\n\u001b[1;32m    617\u001b[0m                 logger.warning(f\"For 'Cell', it's not support hook function in graph mode. If you want to use hook \"\n\u001b[1;32m    618\u001b[0m                                f\"function, please use context.set_context to set pynative mode.\")\n\u001b[0;32m--> 619\u001b[0;31m             \u001b[0mout\u001b[0m \u001b[0;34m=\u001b[0m \u001b[0mself\u001b[0m\u001b[0;34m.\u001b[0m\u001b[0mcompile_and_run\u001b[0m\u001b[0;34m(\u001b[0m\u001b[0;34m*\u001b[0m\u001b[0margs\u001b[0m\u001b[0;34m)\u001b[0m\u001b[0;34m\u001b[0m\u001b[0;34m\u001b[0m\u001b[0m\n\u001b[0m\u001b[1;32m    620\u001b[0m             \u001b[0;32mreturn\u001b[0m \u001b[0mout\u001b[0m\u001b[0;34m\u001b[0m\u001b[0;34m\u001b[0m\u001b[0m\n\u001b[1;32m    621\u001b[0m \u001b[0;34m\u001b[0m\u001b[0m\n",
      "\u001b[0;32m~/anaconda3/envs/mindspore/lib/python3.7/site-packages/mindspore/nn/cell.py\u001b[0m in \u001b[0;36mcompile_and_run\u001b[0;34m(self, *inputs)\u001b[0m\n\u001b[1;32m   1003\u001b[0m         \"\"\"\n\u001b[1;32m   1004\u001b[0m         \u001b[0mself\u001b[0m\u001b[0;34m.\u001b[0m\u001b[0m_auto_parallel_compile_and_run\u001b[0m \u001b[0;34m=\u001b[0m \u001b[0;32mTrue\u001b[0m\u001b[0;34m\u001b[0m\u001b[0;34m\u001b[0m\u001b[0m\n\u001b[0;32m-> 1005\u001b[0;31m         \u001b[0mself\u001b[0m\u001b[0;34m.\u001b[0m\u001b[0mcompile\u001b[0m\u001b[0;34m(\u001b[0m\u001b[0;34m*\u001b[0m\u001b[0minputs\u001b[0m\u001b[0;34m)\u001b[0m\u001b[0;34m\u001b[0m\u001b[0;34m\u001b[0m\u001b[0m\n\u001b[0m\u001b[1;32m   1006\u001b[0m \u001b[0;34m\u001b[0m\u001b[0m\n\u001b[1;32m   1007\u001b[0m         \u001b[0mnew_inputs\u001b[0m \u001b[0;34m=\u001b[0m \u001b[0m_get_args_for_run\u001b[0m\u001b[0;34m(\u001b[0m\u001b[0mself\u001b[0m\u001b[0;34m,\u001b[0m \u001b[0minputs\u001b[0m\u001b[0;34m)\u001b[0m\u001b[0;34m\u001b[0m\u001b[0;34m\u001b[0m\u001b[0m\n",
      "\u001b[0;32m~/anaconda3/envs/mindspore/lib/python3.7/site-packages/mindspore/nn/cell.py\u001b[0m in \u001b[0;36mcompile\u001b[0;34m(self, *inputs)\u001b[0m\n\u001b[1;32m    975\u001b[0m         \u001b[0;32mif\u001b[0m \u001b[0mself\u001b[0m\u001b[0;34m.\u001b[0m\u001b[0m_dynamic_shape_inputs\u001b[0m \u001b[0;32mis\u001b[0m \u001b[0;32mNone\u001b[0m \u001b[0;32mor\u001b[0m \u001b[0mself\u001b[0m\u001b[0;34m.\u001b[0m\u001b[0m_dynamic_shape_inputs\u001b[0m\u001b[0;34m[\u001b[0m\u001b[0;36m0\u001b[0m\u001b[0;34m]\u001b[0m \u001b[0;32mis\u001b[0m \u001b[0;32mNone\u001b[0m\u001b[0;34m:\u001b[0m\u001b[0;34m\u001b[0m\u001b[0;34m\u001b[0m\u001b[0m\n\u001b[1;32m    976\u001b[0m             _cell_graph_executor.compile(self, *inputs, phase=self.phase, auto_parallel_mode=self._auto_parallel_mode,\n\u001b[0;32m--> 977\u001b[0;31m                                          jit_config_dict=self._jit_config_dict)\n\u001b[0m\u001b[1;32m    978\u001b[0m         \u001b[0;32melse\u001b[0m\u001b[0;34m:\u001b[0m\u001b[0;34m\u001b[0m\u001b[0;34m\u001b[0m\u001b[0m\n\u001b[1;32m    979\u001b[0m             \u001b[0mself\u001b[0m\u001b[0;34m.\u001b[0m\u001b[0m_check_compile_dynamic_shape\u001b[0m\u001b[0;34m(\u001b[0m\u001b[0;34m*\u001b[0m\u001b[0minputs\u001b[0m\u001b[0;34m)\u001b[0m\u001b[0;34m\u001b[0m\u001b[0;34m\u001b[0m\u001b[0m\n",
      "\u001b[0;32m~/anaconda3/envs/mindspore/lib/python3.7/site-packages/mindspore/common/api.py\u001b[0m in \u001b[0;36mcompile\u001b[0;34m(self, obj, phase, do_convert, auto_parallel_mode, jit_config_dict, *args)\u001b[0m\n\u001b[1;32m   1129\u001b[0m         \u001b[0;32mif\u001b[0m \u001b[0mjit_config_dict\u001b[0m\u001b[0;34m:\u001b[0m\u001b[0;34m\u001b[0m\u001b[0;34m\u001b[0m\u001b[0m\n\u001b[1;32m   1130\u001b[0m             \u001b[0mself\u001b[0m\u001b[0;34m.\u001b[0m\u001b[0m_graph_executor\u001b[0m\u001b[0;34m.\u001b[0m\u001b[0mset_jit_config\u001b[0m\u001b[0;34m(\u001b[0m\u001b[0mjit_config_dict\u001b[0m\u001b[0;34m)\u001b[0m\u001b[0;34m\u001b[0m\u001b[0;34m\u001b[0m\u001b[0m\n\u001b[0;32m-> 1131\u001b[0;31m         \u001b[0mresult\u001b[0m \u001b[0;34m=\u001b[0m \u001b[0mself\u001b[0m\u001b[0;34m.\u001b[0m\u001b[0m_graph_executor\u001b[0m\u001b[0;34m.\u001b[0m\u001b[0mcompile\u001b[0m\u001b[0;34m(\u001b[0m\u001b[0mobj\u001b[0m\u001b[0;34m,\u001b[0m \u001b[0margs_list\u001b[0m\u001b[0;34m,\u001b[0m \u001b[0mphase\u001b[0m\u001b[0;34m,\u001b[0m \u001b[0mself\u001b[0m\u001b[0;34m.\u001b[0m\u001b[0m_use_vm_mode\u001b[0m\u001b[0;34m(\u001b[0m\u001b[0;34m)\u001b[0m\u001b[0;34m)\u001b[0m\u001b[0;34m\u001b[0m\u001b[0;34m\u001b[0m\u001b[0m\n\u001b[0m\u001b[1;32m   1132\u001b[0m         \u001b[0mobj\u001b[0m\u001b[0;34m.\u001b[0m\u001b[0mcompile_cache\u001b[0m\u001b[0;34m.\u001b[0m\u001b[0madd\u001b[0m\u001b[0;34m(\u001b[0m\u001b[0mphase\u001b[0m\u001b[0;34m)\u001b[0m\u001b[0;34m\u001b[0m\u001b[0;34m\u001b[0m\u001b[0m\n\u001b[1;32m   1133\u001b[0m         \u001b[0;32mif\u001b[0m \u001b[0;32mnot\u001b[0m \u001b[0mresult\u001b[0m\u001b[0;34m:\u001b[0m\u001b[0;34m\u001b[0m\u001b[0;34m\u001b[0m\u001b[0m\n",
      "\u001b[0;31mTypeError\u001b[0m: Cannot join the return values of different branches, perhaps you need to make them equal.\nType Join Failed: dtype1 = Bool, dtype2 = Anything.\nFor more details, please refer to https://www.mindspore.cn/search?inputValue=Type%20Join%20Failed\n\nInner Message:\nThe abstract type of the return value of the current branch is AbstractTuple{element[0]: AbstractScalar(Type: Bool, Value: AnyValue, Shape: NoShape), element[1]: AbstractScalar(Type: Bool, Value: AnyValue, Shape: NoShape), element[2]: AbstractScalar(Type: Bool, Value: AnyValue, Shape: NoShape), element[3]: AbstractScalar(Type: Bool, Value: AnyValue, Shape: NoShape), element[4]: AbstractScalar(Type: Bool, Value: AnyValue, Shape: NoShape), element[5]: AbstractScalar(Type: Bool, Value: AnyValue, Shape: NoShape), element[6]: AbstractScalar(Type: Bool, Value: AnyValue, Shape: NoShape), element[7]: AbstractScalar(Type: Bool, Value: AnyValue, Shape: NoShape), element[8]: AbstractScalar(Type: Bool, Value: AnyValue, Shape: NoShape), element[9]: AbstractScalar(Type: Bool, Value: AnyValue, Shape: NoShape), element[10]: AbstractScalar(Type: Bool, Value: AnyValue, Shape: NoShape), element[11]: AbstractScalar(Type: Bool, Value: AnyValue, Shape: NoShape), element[12]: AbstractScalar(Type: Bool, Value: AnyValue, Shape: NoShape), element[13]: AbstractScalar(Type: Bool, Value: AnyValue, Shape: NoShape), element[14]: AbstractScalar(Type: Bool, Value: AnyValue, Shape: NoShape), element[15]: AbstractScalar(Type: Bool, Value: AnyValue, Shape: NoShape), element[16]: AbstractScalar(Type: Bool, Value: AnyValue, Shape: NoShape), element[17]: AbstractScalar(Type: Bool, Value: AnyValue, Shape: NoShape), element[18]: AbstractScalar(Type: Bool, Value: AnyValue, Shape: NoShape), element[19]: AbstractScalar(Type: Bool, Value: AnyValue, Shape: NoShape), element[20]: AbstractScalar(Type: Bool, Value: AnyValue, Shape: NoShape), element[21]: AbstractScalar(Type: Bool, Value: AnyValue, Shape: NoShape), element[22]: AbstractScalar(Type: Bool, Value: AnyValue, Shape: NoShape), element[23]: AbstractScalar(Type: Bool, Value: AnyValue, Shape: NoShape), element[24]: AbstractScalar(Type: Bool, Value: AnyValue, Shape: NoShape), element[25]: AbstractScalar(Type: Bool, Value: AnyValue, Shape: NoShape), element[26]: AbstractScalar(Type: Bool, Value: AnyValue, Shape: NoShape), element[27]: AbstractScalar(Type: Bool, Value: AnyValue, Shape: NoShape), element[28]: AbstractScalar(Type: Bool, Value: AnyValue, Shape: NoShape), element[29]: AbstractScalar(Type: Bool, Value: AnyValue, Shape: NoShape), element[30]: AbstractScalar(Type: Bool, Value: AnyValue, Shape: NoShape), element[31]: AbstractScalar(Type: Bool, Value: AnyValue, Shape: NoShape), element[32]: AbstractScalar(Type: Bool, Value: AnyValue, Shape: NoShape), element[33]: AbstractScalar(Type: Bool, Value: AnyValue, Shape: NoShape), element[34]: AbstractScalar(Type: Bool, Value: AnyValue, Shape: NoShape), element[35]: AbstractScalar(Type: Bool, Value: AnyValue, Shape: NoShape), element[36]: AbstractScalar(Type: Bool, Value: AnyValue, Shape: NoShape), element[37]: AbstractScalar(Type: Bool, Value: AnyValue, Shape: NoShape), element[38]: AbstractScalar(Type: Bool, Value: AnyValue, Shape: NoShape), element[39]: AbstractScalar(Type: Bool, Value: AnyValue, Shape: NoShape), element[40]: AbstractScalar(Type: Bool, Value: AnyValue, Shape: NoShape), element[41]: AbstractScalar(Type: Bool, Value: AnyValue, Shape: NoShape), element[42]: AbstractScalar(Type: Bool, Value: AnyValue, Shape: NoShape), element[43]: AbstractScalar(Type: Bool, Value: AnyValue, Shape: NoShape), element[44]: AbstractScalar(Type: Bool, Value: AnyValue, Shape: NoShape), element[45]: AbstractScalar(Type: Bool, Value: AnyValue, Shape: NoShape), element[46]: AbstractScalar(Type: Bool, Value: AnyValue, Shape: NoShape), element[47]: AbstractScalar(Type: Bool, Value: AnyValue, Shape: NoShape), element[48]: AbstractScalar(Type: Bool, Value: AnyValue, Shape: NoShape), element[49]: AbstractScalar(Type: Bool, Value: AnyValue, Shape: NoShape), element[50]: AbstractScalar(Type: Bool, Value: AnyValue, Shape: NoShape), element[51]: AbstractScalar(Type: Bool, Value: AnyValue, Shape: NoShape), element[52]: AbstractScalar(Type: Bool, Value: AnyValue, Shape: NoShape), element[53]: AbstractScalar(Type: Bool, Value: AnyValue, Shape: NoShape), element[54]: AbstractScalar(Type: Bool, Value: AnyValue, Shape: NoShape), element[55]: AbstractScalar(Type: Bool, Value: AnyValue, Shape: NoShape), element[56]: AbstractScalar(Type: Bool, Value: AnyValue, Shape: NoShape), element[57]: AbstractScalar(Type: Bool, Value: AnyValue, Shape: NoShape), element[58]: AbstractScalar(Type: Bool, Value: AnyValue, Shape: NoShape), element[59]: AbstractScalar(Type: Bool, Value: AnyValue, Shape: NoShape), element[60]: AbstractScalar(Type: Bool, Value: AnyValue, Shape: NoShape), element[61]: AbstractScalar(Type: Bool, Value: AnyValue, Shape: NoShape), element[62]: AbstractScalar(Type: Bool, Value: AnyValue, Shape: NoShape), element[63]: AbstractScalar(Type: Bool, Value: AnyValue, Shape: NoShape), element[64]: AbstractScalar(Type: Bool, Value: AnyValue, Shape: NoShape), element[65]: AbstractScalar(Type: Bool, Value: AnyValue, Shape: NoShape), element[66]: AbstractScalar(Type: Bool, Value: AnyValue, Shape: NoShape), element[67]: AbstractScalar(Type: Bool, Value: AnyValue, Shape: NoShape), element[68]: AbstractScalar(Type: Bool, Value: AnyValue, Shape: NoShape), element[69]: AbstractScalar(Type: Bool, Value: AnyValue, Shape: NoShape), element[70]: AbstractScalar(Type: Bool, Value: AnyValue, Shape: NoShape), element[71]: AbstractScalar(Type: Bool, Value: AnyValue, Shape: NoShape), element[72]: AbstractScalar(Type: Bool, Value: AnyValue, Shape: NoShape), element[73]: AbstractScalar(Type: Bool, Value: AnyValue, Shape: NoShape), element[74]: AbstractScalar(Type: Bool, Value: AnyValue, Shape: NoShape), element[75]: AbstractScalar(Type: Bool, Value: AnyValue, Shape: NoShape), element[76]: AbstractScalar(Type: Bool, Value: AnyValue, Shape: NoShape), element[77]: AbstractScalar(Type: Bool, Value: AnyValue, Shape: NoShape), element[78]: AbstractScalar(Type: Bool, Value: AnyValue, Shape: NoShape), element[79]: AbstractScalar(Type: Bool, Value: AnyValue, Shape: NoShape), element[80]: AbstractScalar(Type: Bool, Value: AnyValue, Shape: NoShape), element[81]: AbstractScalar(Type: Bool, Value: AnyValue, Shape: NoShape), element[82]: AbstractScalar(Type: Bool, Value: AnyValue, Shape: NoShape), element[83]: AbstractScalar(Type: Bool, Value: AnyValue, Shape: NoShape), element[84]: AbstractScalar(Type: Bool, Value: AnyValue, Shape: NoShape), element[85]: AbstractScalar(Type: Bool, Value: AnyValue, Shape: NoShape), element[86]: AbstractScalar(Type: Bool, Value: AnyValue, Shape: NoShape), element[87]: AbstractScalar(Type: Bool, Value: AnyValue, Shape: NoShape), element[88]: AbstractScalar(Type: Bool, Value: AnyValue, Shape: NoShape), element[89]: AbstractScalar(Type: Bool, Value: AnyValue, Shape: NoShape), element[90]: AbstractScalar(Type: Bool, Value: AnyValue, Shape: NoShape), element[91]: AbstractScalar(Type: Bool, Value: AnyValue, Shape: NoShape), element[92]: AbstractScalar(Type: Bool, Value: AnyValue, Shape: NoShape), element[93]: AbstractScalar(Type: Bool, Value: AnyValue, Shape: NoShape), element[94]: AbstractScalar(Type: Bool, Value: AnyValue, Shape: NoShape), element[95]: AbstractScalar(Type: Bool, Value: AnyValue, Shape: NoShape), element[96]: AbstractScalar(Type: Bool, Value: AnyValue, Shape: NoShape), element[97]: AbstractScalar(Type: Bool, Value: AnyValue, Shape: NoShape), element[98]: AbstractScalar(Type: Bool, Value: AnyValue, Shape: NoShape), element[99]: AbstractScalar(Type: Bool, Value: AnyValue, Shape: NoShape), element[100]: AbstractScalar(Type: Bool, Value: AnyValue, Shape: NoShape), element[101]: AbstractScalar(Type: Bool, Value: AnyValue, Shape: NoShape), element[102]: AbstractScalar(Type: Bool, Value: AnyValue, Shape: NoShape), element[103]: AbstractScalar(Type: Bool, Value: AnyValue, Shape: NoShape), element[104]: AbstractScalar(Type: Bool, Value: AnyValue, Shape: NoShape), element[105]: AbstractScalar(Type: Bool, Value: AnyValue, Shape: NoShape), element[106]: AbstractScalar(Type: Bool, Value: AnyValue, Shape: NoShape), element[107]: AbstractScalar(Type: Bool, Value: AnyValue, Shape: NoShape), element[108]: AbstractScalar(Type: Bool, Value: AnyValue, Shape: NoShape), element[109]: AbstractScalar(Type: Bool, Value: AnyValue, Shape: NoShape), element[110]: AbstractScalar(Type: Bool, Value: AnyValue, Shape: NoShape), element[111]: AbstractScalar(Type: Bool, Value: AnyValue, Shape: NoShape), element[112]: AbstractScalar(Type: Bool, Value: AnyValue, Shape: NoShape), element[113]: AbstractScalar(Type: Bool, Value: AnyValue, Shape: NoShape), element[114]: AbstractScalar(Type: Bool, Value: AnyValue, Shape: NoShape), element[115]: AbstractScalar(Type: Bool, Value: AnyValue, Shape: NoShape), element[116]: AbstractScalar(Type: Bool, Value: AnyValue, Shape: NoShape), element[117]: AbstractScalar(Type: Bool, Value: AnyValue, Shape: NoShape), element[118]: AbstractScalar(Type: Bool, Value: AnyValue, Shape: NoShape), element[119]: AbstractScalar(Type: Bool, Value: AnyValue, Shape: NoShape), element[120]: AbstractScalar(Type: Bool, Value: AnyValue, Shape: NoShape), element[121]: AbstractScalar(Type: Bool, Value: AnyValue, Shape: NoShape), element[122]: AbstractScalar(Type: Bool, Value: AnyValue, Shape: NoShape), element[123]: AbstractScalar(Type: Bool, Value: AnyValue, Shape: NoShape), element[124]: AbstractScalar(Type: Bool, Value: AnyValue, Shape: NoShape), element[125]: AbstractScalar(Type: Bool, Value: AnyValue, Shape: NoShape), element[126]: AbstractScalar(Type: Bool, Value: AnyValue, Shape: NoShape), element[127]: AbstractScalar(Type: Bool, Value: AnyValue, Shape: NoShape), element[128]: AbstractScalar(Type: Bool, Value: AnyValue, Shape: NoShape), element[129]: AbstractScalar(Type: Bool, Value: AnyValue, Shape: NoShape), element[130]: AbstractScalar(Type: Bool, Value: AnyValue, Shape: NoShape), element[131]: AbstractScalar(Type: Bool, Value: AnyValue, Shape: NoShape), element[132]: AbstractScalar(Type: Bool, Value: AnyValue, Shape: NoShape), element[133]: AbstractScalar(Type: Bool, Value: AnyValue, Shape: NoShape), element[134]: AbstractScalar(Type: Bool, Value: AnyValue, Shape: NoShape), element[135]: AbstractScalar(Type: Bool, Value: AnyValue, Shape: NoShape), element[136]: AbstractScalar(Type: Bool, Value: AnyValue, Shape: NoShape), element[137]: AbstractScalar(Type: Bool, Value: AnyValue, Shape: NoShape), element[138]: AbstractScalar(Type: Bool, Value: AnyValue, Shape: NoShape), element[139]: AbstractScalar(Type: Bool, Value: AnyValue, Shape: NoShape), element[140]: AbstractScalar(Type: Bool, Value: AnyValue, Shape: NoShape), element[141]: AbstractScalar(Type: Bool, Value: AnyValue, Shape: NoShape), element[142]: AbstractScalar(Type: Bool, Value: AnyValue, Shape: NoShape), element[143]: AbstractScalar(Type: Bool, Value: AnyValue, Shape: NoShape), element[144]: AbstractScalar(Type: Bool, Value: AnyValue, Shape: NoShape), element[145]: AbstractScalar(Type: Bool, Value: AnyValue, Shape: NoShape), element[146]: AbstractScalar(Type: Bool, Value: AnyValue, Shape: NoShape), element[147]: AbstractScalar(Type: Bool, Value: AnyValue, Shape: NoShape), element[148]: AbstractScalar(Type: Bool, Value: AnyValue, Shape: NoShape), element[149]: AbstractScalar(Type: Bool, Value: AnyValue, Shape: NoShape), element[150]: AbstractScalar(Type: Bool, Value: AnyValue, Shape: NoShape), element[151]: AbstractScalar(Type: Bool, Value: AnyValue, Shape: NoShape), element[152]: AbstractScalar(Type: Bool, Value: AnyValue, Shape: NoShape), element[153]: AbstractScalar(Type: Bool, Value: AnyValue, Shape: NoShape), element[154]: AbstractScalar(Type: Bool, Value: AnyValue, Shape: NoShape), element[155]: AbstractScalar(Type: Bool, Value: AnyValue, Shape: NoShape), element[156]: AbstractScalar(Type: Bool, Value: AnyValue, Shape: NoShape), element[157]: AbstractScalar(Type: Bool, Value: AnyValue, Shape: NoShape), element[158]: AbstractScalar(Type: Bool, Value: AnyValue, Shape: NoShape), element[159]: AbstractScalar(Type: Bool, Value: AnyValue, Shape: NoShape), element[160]: AbstractScalar(Type: Bool, Value: AnyValue, Shape: NoShape), element[161]: AbstractScalar(Type: Bool, Value: AnyValue, Shape: NoShape), element[162]: AbstractScalar(Type: Bool, Value: AnyValue, Shape: NoShape), element[163]: AbstractScalar(Type: Bool, Value: AnyValue, Shape: NoShape), element[164]: AbstractScalar(Type: Bool, Value: AnyValue, Shape: NoShape), element[165]: AbstractScalar(Type: Bool, Value: AnyValue, Shape: NoShape), element[166]: AbstractScalar(Type: Bool, Value: AnyValue, Shape: NoShape), element[167]: AbstractScalar(Type: Bool, Value: AnyValue, Shape: NoShape), element[168]: AbstractScalar(Type: Bool, Value: AnyValue, Shape: NoShape), element[169]: AbstractScalar(Type: Bool, Value: AnyValue, Shape: NoShape), element[170]: AbstractScalar(Type: Bool, Value: AnyValue, Shape: NoShape), element[171]: AbstractScalar(Type: Bool, Value: AnyValue, Shape: NoShape), element[172]: AbstractScalar(Type: Bool, Value: AnyValue, Shape: NoShape), element[173]: AbstractScalar(Type: Bool, Value: AnyValue, Shape: NoShape), element[174]: AbstractScalar(Type: Bool, Value: AnyValue, Shape: NoShape), element[175]: AbstractScalar(Type: Bool, Value: AnyValue, Shape: NoShape), element[176]: AbstractScalar(Type: Bool, Value: AnyValue, Shape: NoShape), element[177]: AbstractScalar(Type: Bool, Value: AnyValue, Shape: NoShape), element[178]: AbstractScalar(Type: Bool, Value: AnyValue, Shape: NoShape), element[179]: AbstractScalar(Type: Bool, Value: AnyValue, Shape: NoShape), element[180]: AbstractScalar(Type: Bool, Value: AnyValue, Shape: NoShape), element[181]: AbstractScalar(Type: Bool, Value: AnyValue, Shape: NoShape), element[182]: AbstractScalar(Type: Bool, Value: AnyValue, Shape: NoShape), element[183]: AbstractScalar(Type: Bool, Value: AnyValue, Shape: NoShape), element[184]: AbstractScalar(Type: Bool, Value: AnyValue, Shape: NoShape), element[185]: AbstractScalar(Type: Bool, Value: AnyValue, Shape: NoShape), element[186]: AbstractScalar(Type: Bool, Value: AnyValue, Shape: NoShape), element[187]: AbstractScalar(Type: Bool, Value: AnyValue, Shape: NoShape), element[188]: AbstractScalar(Type: Bool, Value: AnyValue, Shape: NoShape), element[189]: AbstractScalar(Type: Bool, Value: AnyValue, Shape: NoShape), element[190]: AbstractScalar(Type: Bool, Value: AnyValue, Shape: NoShape), element[191]: AbstractScalar(Type: Bool, Value: AnyValue, Shape: NoShape), element[192]: AbstractScalar(Type: Bool, Value: AnyValue, Shape: NoShape), element[193]: AbstractScalar(Type: Bool, Value: AnyValue, Shape: NoShape), element[194]: AbstractScalar(Type: Bool, Value: AnyValue, Shape: NoShape), element[195]: AbstractScalar(Type: Bool, Value: AnyValue, Shape: NoShape), element[196]: AbstractScalar(Type: Bool, Value: AnyValue, Shape: NoShape), element[197]: AbstractScalar(Type: Bool, Value: AnyValue, Shape: NoShape), element[198]: AbstractScalar(Type: Bool, Value: AnyValue, Shape: NoShape), element[199]: AbstractScalar(Type: Bool, Value: AnyValue, Shape: NoShape), element[200]: AbstractScalar(Type: Bool, Value: AnyValue, Shape: NoShape), element[201]: AbstractScalar(Type: Bool, Value: AnyValue, Shape: NoShape), sequence_nodes: {@hyper_map.50:optim_result{[0]: ValueNode<Primitive> MakeTuple, [1]: optim_result, [2]: optim_result, [3]: optim_result, [4]: optim_result, [5]: optim_result, [6]: optim_result, [7]: optim_result, [8]: optim_result, [9]: optim_result, [10]: optim_result, [11]: optim_result, [12]: optim_result, [13]: optim_result, [14]: optim_result, [15]: optim_result, [16]: optim_result, [17]: optim_result, [18]: optim_result, [19]: optim_result, [20]: optim_result, [21]: optim_result, [22]: optim_result, [23]: optim_result, [24]: optim_result, [25]: optim_result, [26]: optim_result, [27]: optim_result, [28]: optim_result, [29]: optim_result, [30]: optim_result, [31]: optim_result, [32]: optim_result, [33]: optim_result, [34]: optim_result, [35]: optim_result, [36]: optim_result, [37]: optim_result, [38]: optim_result, [39]: optim_result, [40]: optim_result, [41]: optim_result, [42]: optim_result, [43]: optim_result, [44]: optim_result, [45]: optim_result, [46]: optim_result, [47]: optim_result, [48]: optim_result, [49]: optim_result, [50]: optim_result, [51]: optim_result, [52]: optim_result, [53]: optim_result, [54]: optim_result, [55]: optim_result, [56]: optim_result, [57]: optim_result, [58]: optim_result, [59]: optim_result, [60]: optim_result, [61]: optim_result, [62]: optim_result, [63]: optim_result, [64]: optim_result, [65]: optim_result, [66]: optim_result, [67]: optim_result, [68]: optim_result, [69]: optim_result, [70]: optim_result, [71]: optim_result, [72]: optim_result, [73]: optim_result, [74]: optim_result, [75]: optim_result, [76]: optim_result, [77]: optim_result, [78]: optim_result, [79]: optim_result, [80]: optim_result, [81]: optim_result, [82]: optim_result, [83]: optim_result, [84]: optim_result, [85]: optim_result, [86]: optim_result, [87]: optim_result, [88]: optim_result, [89]: optim_result, [90]: optim_result, [91]: optim_result, [92]: optim_result, [93]: optim_result, [94]: optim_result, [95]: optim_result, [96]: optim_result, [97]: optim_result, [98]: optim_result, [99]: optim_result, [100]: optim_result, [101]: optim_result, [102]: optim_result, [103]: optim_result, [104]: optim_result, [105]: optim_result, [106]: optim_result, [107]: optim_result, [108]: optim_result, [109]: optim_result, [110]: optim_result, [111]: optim_result, [112]: optim_result, [113]: optim_result, [114]: optim_result, [115]: optim_result, [116]: optim_result, [117]: optim_result, [118]: optim_result, [119]: optim_result, [120]: optim_result, [121]: optim_result, [122]: optim_result, [123]: optim_result, [124]: optim_result, [125]: optim_result, [126]: optim_result, [127]: optim_result, [128]: optim_result, [129]: optim_result, [130]: optim_result, [131]: optim_result, [132]: optim_result, [133]: optim_result, [134]: optim_result, [135]: optim_result, [136]: optim_result, [137]: optim_result, [138]: optim_result, [139]: optim_result, [140]: optim_result, [141]: optim_result, [142]: optim_result, [143]: optim_result, [144]: optim_result, [145]: optim_result, [146]: optim_result, [147]: optim_result, [148]: optim_result, [149]: optim_result, [150]: optim_result, [151]: optim_result, [152]: optim_result, [153]: optim_result, [154]: optim_result, [155]: optim_result, [156]: optim_result, [157]: optim_result, [158]: optim_result, [159]: optim_result, [160]: optim_result, [161]: optim_result, [162]: optim_result, [163]: optim_result, [164]: optim_result, [165]: optim_result, [166]: optim_result, [167]: optim_result, [168]: optim_result, [169]: optim_result, [170]: optim_result, [171]: optim_result, [172]: optim_result, [173]: optim_result, [174]: optim_result, [175]: optim_result, [176]: optim_result, [177]: optim_result, [178]: optim_result, [179]: optim_result, [180]: optim_result, [181]: optim_result, [182]: optim_result, [183]: optim_result, [184]: optim_result, [185]: optim_result, [186]: optim_result, [187]: optim_result, [188]: optim_result, [189]: optim_result, [190]: optim_result, [191]: optim_result, [192]: optim_result, [193]: optim_result, [194]: optim_result, [195]: optim_result, [196]: optim_result, [197]: optim_result, [198]: optim_result, [199]: optim_result, [200]: optim_result, [201]: optim_result, [202]: optim_result}, elements_use_flags: {ptr: 0x7f697caf65a0, value: [const vector][0, 0, 0, 0, 0, 0, 0, 0, 0, 0, 0, 0, 0, 0, 0, 0, 0, 0, 0, 0, 0, 0, 0, 0, 0, 0, 0, 0, 0, 0, 0, 0, 0, 0, 0, 0, 0, 0, 0, 0, 0, 0, 0, 0, 0, 0, 0, 0, 0, 0, 0, 0, 0, 0, 0, 0, 0, 0, 0, 0, 0, 0, 0, 0, 0, 0, 0, 0, 0, 0, 0, 0, 0, 0, 0, 0, 0, 0, 0, 0, 0, 0, 0, 0, 0, 0, 0, 0, 0, 0, 0, 0, 0, 0, 0, 0, 0, 0, 0, 0, 0, 0, 0, 0, 0, 0, 0, 0, 0, 0, 0, 0, 0, 0, 0, 0, 0, 0, 0, 0, 0, 0, 0, 0, 0, 0, 0, 0, 0, 0, 0, 0, 0, 0, 0, 0, 0, 0, 0, 0, 0, 0, 0, 0, 0, 0, 0, 0, 0, 0, 0, 0, 0, 0, 0, 0, 0, 0, 0, 0, 0, 0, 0, 0, 0, 0, 0, 0, 0, 0, 0, 0, 0, 0, 0, 0, 0, 0, 0, 0, 0, 0, 0, 0, 0, 0, 0, 0, 0, 0, 0, 0, 0, 0, 0, 0, 0, 0, 0, 0, 0, 0]}}}, and that of the previous branch is AbstractScalar(Type: Bool, Value: false, Shape: NoShape).\nThe node is @↓↓↓↓↓↓Default.51:[CNode]52{[0]: @↓↓↓↓↓↓Default.51:[CNode]53{[0]: ValueNode<Primitive> Switch, [1]: [CNode]116, [2]: ValueNode<FuncGraph> ✓↓↓↓↓↓↓Default.43, [3]: ValueNode<FuncGraph> ✗↓↓↓↓↓↓Default.44}}, true branch: ✓↓↓↓↓↓↓Default.43, false branch: ✗↓↓↓↓↓↓Default.44\n\n----------------------------------------------------\n- The Traceback of Net Construct Code:\n----------------------------------------------------\nThe function call stack (See file '/home/fish/Documents/GitHub/nlpfinal/ner/rank_0/om/analyze_fail.dat' for more details. Get instructions about `analyze_fail.dat` at https://www.mindspore.cn/search?inputValue=analyze_fail.dat):\n# 0 In file /home/fish/Documents/GitHub/nlpfinal/ner/src/bert_for_finetune.py:216\n        if overflow:\n\n----------------------------------------------------\n- C++ Call Stack: (For framework developers)\n----------------------------------------------------\nmindspore/ccsrc/pipeline/jit/static_analysis/static_analysis.cc:847 ProcessEvalResults\n"
     ]
    }
   ],
   "source": [
    "train()"
   ]
  },
  {
   "attachments": {},
   "cell_type": "markdown",
   "metadata": {},
   "source": [
    "### 9. 加载离线模型"
   ]
  },
  {
   "cell_type": "code",
   "execution_count": 12,
   "metadata": {},
   "outputs": [
    {
     "name": "stderr",
     "output_type": "stream",
     "text": [
      "[WARNING] ME(97019:140099197167424,MainProcess):2023-06-09-02:45:23.286.49 [mindspore/train/serialization.py:736] For 'load_param_into_net', remove parameter prefix name: bert., continue to load.\n",
      "[WARNING] ME(97019:140099197167424,MainProcess):2023-06-09-02:45:23.356.40 [mindspore/train/serialization.py:714] For 'load_param_into_net', 2 parameters in the 'net' are not loaded, because they are not in the 'parameter_dict', please check whether the network structure is consistent when training and loading checkpoint.\n",
      "[WARNING] ME(97019:140099197167424,MainProcess):2023-06-09-02:45:23.360.44 [mindspore/train/serialization.py:716] bert.bert_embedding_postprocessor.embedding_table is not loaded.\n",
      "[WARNING] ME(97019:140099197167424,MainProcess):2023-06-09-02:45:23.364.29 [mindspore/train/serialization.py:716] bert.bert_embedding_postprocessor.full_position_embeddings is not loaded.\n"
     ]
    }
   ],
   "source": [
    "netwithloss = BertNER(bert_net_cfg, 1, False, num_labels=number_labels,\n",
    "                     use_crf=cfg.use_crf,\n",
    "                     tag_to_index=tag_to_index)\n",
    "\n",
    "netwithloss.set_train(False)\n",
    "param_dict = load_checkpoint(cfg.finetune_ckpt)\n",
    "load_param_into_net(netwithloss, param_dict)\n",
    "model = Model(netwithloss)\n",
    "\n",
    "tokenizer_ = tokenization.FullTokenizer(vocab_file=cfg.vocab_file)"
   ]
  },
  {
   "attachments": {},
   "cell_type": "markdown",
   "metadata": {},
   "source": [
    "### 10. 定义测试集评估函数"
   ]
  },
  {
   "cell_type": "code",
   "execution_count": 13,
   "metadata": {},
   "outputs": [],
   "source": [
    "def eval():\n",
    "    '''\n",
    "    evaluation function\n",
    "    '''\n",
    "\n",
    "    dataset = get_dataset(cfg.eval_file, cfg.schema_file, 1)\n",
    "    columns_list = [\"input_ids\", \"input_mask\", \"segment_ids\", \"label_ids\"]\n",
    "\n",
    "    y_true, y_pred = [], []\n",
    "    for data in dataset.create_dict_iterator():\n",
    "        input_data = []\n",
    "        for i in columns_list:\n",
    "            input_data.append(Tensor(data[i]))\n",
    "        input_ids, input_mask, token_type_id, label_ids = input_data\n",
    "        logits = model.predict(input_ids, input_mask, token_type_id, label_ids)\n",
    "\n",
    "        if cfg.use_crf:\n",
    "            backpointers, best_tag_id = logits\n",
    "            best_path = postprocess(backpointers, best_tag_id)\n",
    "            logit_ids = []\n",
    "            for ele in best_path:\n",
    "                logit_ids.append(ele)\n",
    "        else:\n",
    "            logits = logits.asnumpy()\n",
    "            logit_ids = np.argmax(logits, axis=-1)\n",
    "\n",
    "        for ids in label_ids.asnumpy():\n",
    "            y_true.extend(ids)\n",
    "        for ids in logit_ids:\n",
    "            y_pred.extend(ids)\n",
    "\n",
    "    print(classification_report(y_true, y_pred, labels=range(1, 41), target_names=list(tag_to_index.keys())[1:41]))"
   ]
  },
  {
   "attachments": {},
   "cell_type": "markdown",
   "metadata": {},
   "source": [
    "### 11. 启动测试集评估"
   ]
  },
  {
   "cell_type": "code",
   "execution_count": 17,
   "metadata": {},
   "outputs": [
    {
     "name": "stdout",
     "output_type": "stream",
     "text": [
      "                precision    recall  f1-score   support\n",
      "\n",
      "     S_address       0.00      0.00      0.00         0\n",
      "     B_address       0.01      0.01      0.01       373\n",
      "     M_address       0.00      0.00      0.00       956\n",
      "     E_address       0.00      0.01      0.00       373\n",
      "        S_book       0.00      0.00      0.00         0\n",
      "        B_book       0.00      0.05      0.00       154\n",
      "        M_book       0.00      0.00      0.00       723\n",
      "        E_book       0.00      0.00      0.00       154\n",
      "     S_company       0.00      0.00      0.00         0\n",
      "     B_company       0.10      0.03      0.04       378\n",
      "     M_company       0.00      0.02      0.00       937\n",
      "     E_company       0.00      0.24      0.01       378\n",
      "        S_game       0.00      0.00      0.00         0\n",
      "        B_game       0.00      0.00      0.00       295\n",
      "        M_game       0.25      0.00      0.00      1067\n",
      "        E_game       0.00      0.00      0.00       295\n",
      "  S_government       0.00      0.00      0.00         0\n",
      "  B_government       0.01      0.06      0.02       247\n",
      "  M_government       0.00      0.00      0.00       821\n",
      "  E_government       0.00      0.00      0.00       247\n",
      "       S_movie       0.00      0.00      0.00         0\n",
      "       B_movie       0.00      0.00      0.00       151\n",
      "       M_movie       0.00      0.00      0.00       741\n",
      "       E_movie       0.00      0.00      0.00       151\n",
      "        S_name       0.00      0.00      0.00         0\n",
      "        B_name       0.00      0.00      0.00       465\n",
      "        M_name       0.00      0.02      0.01       556\n",
      "        E_name       0.00      0.00      0.00       465\n",
      "S_organization       0.00      0.00      0.00         0\n",
      "B_organization       0.00      0.00      0.00       367\n",
      "M_organization       0.00      0.00      0.00       720\n",
      "E_organization       0.00      0.00      0.00       367\n",
      "    S_position       0.00      0.00      0.00         0\n",
      "    B_position       0.01      0.04      0.01       433\n",
      "    M_position       0.01      0.00      0.00       335\n",
      "    E_position       0.00      0.03      0.01       433\n",
      "       S_scene       0.00      0.00      0.00         0\n",
      "       B_scene       0.00      0.00      0.00       209\n",
      "       M_scene       0.33      0.00      0.00       513\n",
      "       E_scene       0.00      0.00      0.00       209\n",
      "\n",
      "     micro avg       0.00      0.01      0.00     13513\n",
      "     macro avg       0.02      0.01      0.00     13513\n",
      "  weighted avg       0.04      0.01      0.00     13513\n",
      "\n"
     ]
    },
    {
     "name": "stderr",
     "output_type": "stream",
     "text": [
      "/home/fish/anaconda3/envs/mindspore/lib/python3.7/site-packages/sklearn/metrics/_classification.py:1318: UndefinedMetricWarning: Precision and F-score are ill-defined and being set to 0.0 in labels with no predicted samples. Use `zero_division` parameter to control this behavior.\n",
      "  _warn_prf(average, modifier, msg_start, len(result))\n",
      "/home/fish/anaconda3/envs/mindspore/lib/python3.7/site-packages/sklearn/metrics/_classification.py:1318: UndefinedMetricWarning: Recall and F-score are ill-defined and being set to 0.0 in labels with no true samples. Use `zero_division` parameter to control this behavior.\n",
      "  _warn_prf(average, modifier, msg_start, len(result))\n",
      "/home/fish/anaconda3/envs/mindspore/lib/python3.7/site-packages/sklearn/metrics/_classification.py:1318: UndefinedMetricWarning: Precision and F-score are ill-defined and being set to 0.0 in labels with no predicted samples. Use `zero_division` parameter to control this behavior.\n",
      "  _warn_prf(average, modifier, msg_start, len(result))\n",
      "/home/fish/anaconda3/envs/mindspore/lib/python3.7/site-packages/sklearn/metrics/_classification.py:1318: UndefinedMetricWarning: Recall and F-score are ill-defined and being set to 0.0 in labels with no true samples. Use `zero_division` parameter to control this behavior.\n",
      "  _warn_prf(average, modifier, msg_start, len(result))\n",
      "/home/fish/anaconda3/envs/mindspore/lib/python3.7/site-packages/sklearn/metrics/_classification.py:1318: UndefinedMetricWarning: Precision and F-score are ill-defined and being set to 0.0 in labels with no predicted samples. Use `zero_division` parameter to control this behavior.\n",
      "  _warn_prf(average, modifier, msg_start, len(result))\n",
      "/home/fish/anaconda3/envs/mindspore/lib/python3.7/site-packages/sklearn/metrics/_classification.py:1318: UndefinedMetricWarning: Recall and F-score are ill-defined and being set to 0.0 in labels with no true samples. Use `zero_division` parameter to control this behavior.\n",
      "  _warn_prf(average, modifier, msg_start, len(result))\n"
     ]
    }
   ],
   "source": [
    "eval()"
   ]
  },
  {
   "attachments": {},
   "cell_type": "markdown",
   "metadata": {},
   "source": [
    "### 12. 定义在线推理函数"
   ]
  },
  {
   "cell_type": "code",
   "execution_count": 14,
   "metadata": {},
   "outputs": [],
   "source": [
    "def inference(text):\n",
    "    \"\"\"\n",
    "    online inference\n",
    "    \"\"\"\n",
    "    feature = process_one_example_p(tokenizer_, cfg.vocab_file, text, max_seq_len=bert_net_cfg.seq_length)\n",
    "    input_ids, input_mask, token_type_id = feature\n",
    "    input_ids = Tensor(np.array(input_ids), mstype.int32)\n",
    "    input_mask = Tensor(np.array(input_mask), mstype.int32)\n",
    "    token_type_id = Tensor(np.array(token_type_id), mstype.int32)\n",
    "    if cfg.use_crf:\n",
    "        backpointers, best_tag_id = model.predict(input_ids, input_mask, token_type_id, Tensor(1))\n",
    "        best_path = postprocess(backpointers, best_tag_id)\n",
    "        logits = []\n",
    "        for ele in best_path:\n",
    "            logits.extend(ele)\n",
    "        ids = logits\n",
    "    else:\n",
    "        logits = model.predict(input_ids, input_mask, token_type_id, Tensor(1))\n",
    "        ids = logits.asnumpy()\n",
    "        ids = np.argmax(ids, axis=-1)\n",
    "        ids = list(ids)\n",
    "        \n",
    "    res = label_generation(text=text, probs=ids, tag_to_index=tag_to_index)\n",
    "    return res"
   ]
  },
  {
   "attachments": {},
   "cell_type": "markdown",
   "metadata": {},
   "source": [
    "### 13. 在线推理测试"
   ]
  },
  {
   "cell_type": "code",
   "execution_count": 15,
   "metadata": {},
   "outputs": [
    {
     "data": {
      "text/plain": [
       "{'government': {'温': [[0, 0]]},\n",
       " 'company': {'格的': [[1, 2]],\n",
       "  '球队': [[3, 4]],\n",
       "  '终于': [[5, 6]],\n",
       "  '又踢': [[7, 8]],\n",
       "  '了一': [[9, 10]],\n",
       "  '场经': [[11, 12]],\n",
       "  '典的': [[13, 14]],\n",
       "  '比赛': [[15, 16]],\n",
       "  '，2': [[17, 18]],\n",
       "  '比1': [[19, 20]],\n",
       "  '战胜': [[21, 22]],\n",
       "  '曼联': [[23, 24]],\n",
       "  '之后': [[25, 26]],\n",
       "  '枪手': [[27, 28]],\n",
       "  '仍然': [[29, 30]],\n",
       "  '留在': [[31, 32]],\n",
       "  '了夺': [[33, 34]],\n",
       "  '冠集': [[35, 36]],\n",
       "  '团之': [[37, 38]]},\n",
       " 'movie': {'内，': [[39, 40]]}}"
      ]
     },
     "execution_count": 15,
     "metadata": {},
     "output_type": "execute_result"
    }
   ],
   "source": [
    "inference(\"温格的球队终于又踢了一场经典的比赛，2比1战胜曼联之后枪手仍然留在了夺冠集团之内，\")"
   ]
  },
  {
   "cell_type": "code",
   "execution_count": 16,
   "metadata": {},
   "outputs": [
    {
     "data": {
      "text/plain": [
       "{'book': {'阿': [[1, 1]], '。': [[44, 44]]},\n",
       " 'government': {'姨': [[2, 2]], '者': [[37, 37]]},\n",
       " 'company': {'就赶': [[3, 4]],\n",
       "  '到文': [[5, 6]],\n",
       "  '汇路': [[7, 8]],\n",
       "  '排队': [[9, 10]],\n",
       "  '拿钱': [[11, 12]],\n",
       "  '，希': [[13, 14]],\n",
       "  '望能': [[15, 16]],\n",
       "  '将缴': [[17, 18]],\n",
       "  '纳的': [[19, 20]],\n",
       "  '一万': [[21, 22]],\n",
       "  '余元': [[23, 24]],\n",
       "  '学费': [[25, 26]],\n",
       "  '拿回': [[27, 28]],\n",
       "  '来，': [[29, 30]],\n",
       "  '顺便': [[31, 32]],\n",
       "  '找校': [[33, 34]],\n",
       "  '方或': [[35, 36]]},\n",
       " 'position': {'教': [[38, 38]], '委要个说法': [[39, 43]]}}"
      ]
     },
     "execution_count": 16,
     "metadata": {},
     "output_type": "execute_result"
    }
   ],
   "source": [
    "inference(\"郑阿姨就赶到文汇路排队拿钱，希望能将缴纳的一万余元学费拿回来，顺便找校方或者教委要个说法。\")"
   ]
  },
  {
   "cell_type": "code",
   "execution_count": null,
   "metadata": {},
   "outputs": [],
   "source": []
  },
  {
   "cell_type": "code",
   "execution_count": null,
   "metadata": {},
   "outputs": [],
   "source": []
  }
 ],
 "metadata": {
  "kernelspec": {
   "display_name": "mindspore",
   "language": "python",
   "name": "python3"
  },
  "language_info": {
   "codemirror_mode": {
    "name": "ipython",
    "version": 3
   },
   "file_extension": ".py",
   "mimetype": "text/x-python",
   "name": "python",
   "nbconvert_exporter": "python",
   "pygments_lexer": "ipython3",
   "version": "3.7.12"
  }
 },
 "nbformat": 4,
 "nbformat_minor": 4
}
