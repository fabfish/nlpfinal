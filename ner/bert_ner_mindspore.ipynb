{
 "cells": [
  {
   "attachments": {},
   "cell_type": "markdown",
   "metadata": {},
   "source": [
    "## MindSpore-BERT-NER\n",
    "### 1. 下载源码和数据至本地容器\n",
    "\n",
    "因为notebook是挂载在obs上，运行的容器实例不能直接读取操作obs上的文件，需下载至容器本地环境中"
   ]
  },
  {
   "cell_type": "code",
   "execution_count": 1,
   "metadata": {},
   "outputs": [
    {
     "name": "stderr",
     "output_type": "stream",
     "text": [
      "INFO:root:Using MoXing-v2.0.0.rc2.4b57a67b-4b57a67b\n",
      "INFO:root:Using OBS-Python-SDK-3.20.9.1\n"
     ]
    }
   ],
   "source": [
    "import moxing as mox\n",
    "mox.file.copy_parallel(src_url=\"obs://nlp-workspace/3.ner/src/\", dst_url='./src/') \n",
    "mox.file.copy_parallel(src_url=\"obs://nlp-workspace/3.ner/data/\", dst_url='./data/')\n",
    "mox.file.copy_parallel(src_url=\"obs://nlp-workspace/3.ner/pre_model/\", dst_url='./pre_model/')"
   ]
  },
  {
   "attachments": {},
   "cell_type": "markdown",
   "metadata": {},
   "source": [
    "### 2. 导入依赖库"
   ]
  },
  {
   "cell_type": "code",
   "execution_count": 1,
   "metadata": {},
   "outputs": [],
   "source": [
    "import os\n",
    "import argparse\n",
    "import numpy as np\n",
    "import json\n",
    "from sklearn.metrics import classification_report # 需放在前面导入\n",
    "\n",
    "import mindspore.nn as nn\n",
    "from easydict import EasyDict as edict\n",
    "import mindspore.common.dtype as mstype\n",
    "from mindspore import context\n",
    "from mindspore import log as logger\n",
    "from mindspore.common.tensor import Tensor\n",
    "import mindspore.dataset as de\n",
    "from mindspore.ops import operations as P\n",
    "import mindspore.dataset.transforms.c_transforms as C\n",
    "from mindspore.nn.wrap.loss_scale import DynamicLossScaleUpdateCell\n",
    "from mindspore.nn.optim import AdamWeightDecay\n",
    "from mindspore.train.model import Model\n",
    "from mindspore.train.callback import CheckpointConfig, ModelCheckpoint, TimeMonitor, LossMonitor\n",
    "from mindspore.train.serialization import load_checkpoint, load_param_into_net\n",
    "from mindspore.common.initializer import TruncatedNormal\n",
    "\n",
    "from src import tokenization\n",
    "from src.CRF import CRF\n",
    "from src.CRF import postprocess\n",
    "from src.cluener_evaluation import process_one_example_p, label_generation\n",
    "from src.utils import BertLearningRate\n",
    "from src.bert_for_finetune import BertFinetuneCell\n",
    "from src.config import optimizer_cfg\n",
    "from src.bert_model import BertConfig, BertModel"
   ]
  },
  {
   "cell_type": "code",
   "execution_count": 2,
   "metadata": {},
   "outputs": [],
   "source": [
    "context.set_context(mode=context.GRAPH_MODE, device_target=\"Ascend\")"
   ]
  },
  {
   "attachments": {},
   "cell_type": "markdown",
   "metadata": {},
   "source": [
    "### 3. 定义参数配置"
   ]
  },
  {
   "cell_type": "code",
   "execution_count": 3,
   "metadata": {},
   "outputs": [],
   "source": [
    "cfg = edict({\n",
    "    'is_train': True,\n",
    "    'num_labels': 41,                 \n",
    "    'schema_file': r'./data/clue_ner/schema.json',\n",
    "    'ckpt_prefix': 'bert-ner-crf',          # 'bert-ner'  'bert-ner-crf'\n",
    "    'train_file': r'./data/clue_ner/train.tf_record', \n",
    "    'eval_file': r'./data/clue_ner/dev.tf_record',\n",
    "    'use_crf': True,         \n",
    "\n",
    "    'epoch_num': 5,\n",
    "    'batch_size': 16,\n",
    "    'ckpt_dir': 'ckpt',\n",
    "    'pre_training_ckpt': './pre_model/bert_base.ckpt',\n",
    "\n",
    "    'finetune_ckpt': './ckpt/bert-ner-crf-5_671.ckpt', \n",
    "    'label2id_file': './data/clue_ner/label2id.json',\n",
    "    'vocab_file': './data/vocab.txt',\n",
    "    'eval_out_file': 'ner_crf_result.txt'      #  ner_result.txt   ner_crf_result.txt\n",
    "})\n",
    "\n",
    "bert_net_cfg = BertConfig(\n",
    "    seq_length=128,\n",
    "    vocab_size=21128,\n",
    "    hidden_size=768,\n",
    "    num_hidden_layers=12,\n",
    "    num_attention_heads=12,\n",
    "    intermediate_size=3072,\n",
    "    hidden_act=\"gelu\",\n",
    "    hidden_dropout_prob=0.1,\n",
    "    attention_probs_dropout_prob=0.1,\n",
    "    max_position_embeddings=512,\n",
    "    type_vocab_size=2,\n",
    "    initializer_range=0.02,\n",
    "    use_relative_positions=False,\n",
    "    dtype=mstype.float32,\n",
    "    compute_type=mstype.float16\n",
    ")"
   ]
  },
  {
   "attachments": {},
   "cell_type": "markdown",
   "metadata": {},
   "source": [
    "### 4. 定义数据集加载函数"
   ]
  },
  {
   "cell_type": "code",
   "execution_count": 4,
   "metadata": {},
   "outputs": [],
   "source": [
    "def get_dataset(data_file, schema_file, batch_size):\n",
    "    '''\n",
    "    get dataset\n",
    "    '''\n",
    "    ds = de.TFRecordDataset([data_file], schema_file, columns_list=[\"input_ids\", \"input_mask\",\"segment_ids\", \"label_ids\"])\n",
    "    type_cast_op = C.TypeCast(mstype.int32)\n",
    "    ds = ds.map(input_columns=\"segment_ids\", operations=type_cast_op)\n",
    "    ds = ds.map(input_columns=\"input_mask\", operations=type_cast_op)\n",
    "    ds = ds.map(input_columns=\"input_ids\", operations=type_cast_op)\n",
    "    ds = ds.map(input_columns=\"label_ids\", operations=type_cast_op)\n",
    "    \n",
    "    # apply shuffle operation\n",
    "    buffer_size = 960\n",
    "    ds = ds.shuffle(buffer_size=buffer_size)\n",
    "\n",
    "    # apply batch operations\n",
    "    ds = ds.batch(batch_size, drop_remainder=True)\n",
    "    return ds"
   ]
  },
  {
   "attachments": {},
   "cell_type": "markdown",
   "metadata": {},
   "source": [
    "数据集测试"
   ]
  },
  {
   "cell_type": "code",
   "execution_count": 5,
   "metadata": {},
   "outputs": [
    {
     "data": {
      "text/plain": [
       "Tensor(shape=[128], dtype=Int32, value= [ 101, 1762, 1059, 4413, 7032, 6084, 3862, 1580, 4638, 5688, 4157,  677, 6393, 7309, 2190, 7676, 3949,  118, 1079, 1765, 7032, 6084, 1750, 3300, \n",
       " 3918, 1174, 4415, 6237, 4638,  683, 2157, 8024, 3448, 2137, 6930, 3187, 4542, 3221, 3297,  881,  782, 6848,  722,  671,  511,  102,    0,    0, \n",
       "    0,    0,    0,    0,    0,    0,    0,    0,    0,    0,    0,    0,    0,    0,    0,    0,    0,    0,    0,    0,    0,    0,    0,    0, \n",
       "    0,    0,    0,    0,    0,    0,    0,    0,    0,    0,    0,    0,    0,    0,    0,    0,    0,    0,    0,    0,    0,    0,    0,    0, \n",
       "    0,    0,    0,    0,    0,    0,    0,    0,    0,    0,    0,    0,    0,    0,    0,    0,    0,    0,    0,    0,    0,    0,    0,    0, \n",
       "    0,    0,    0,    0,    0,    0,    0,    0])"
      ]
     },
     "execution_count": 5,
     "metadata": {},
     "output_type": "execute_result"
    }
   ],
   "source": [
    "next(get_dataset(cfg.train_file, cfg.schema_file, batch_size=1).create_dict_iterator())['input_ids'][0]"
   ]
  },
  {
   "attachments": {},
   "cell_type": "markdown",
   "metadata": {},
   "source": [
    "### 5. 定义BertNER模型"
   ]
  },
  {
   "cell_type": "code",
   "execution_count": 6,
   "metadata": {},
   "outputs": [],
   "source": [
    "class BertNER(nn.Cell):\n",
    "    \"\"\"\n",
    "    Train interface for sequence labeling finetuning task.\n",
    "    \"\"\"\n",
    "    def __init__(self, config, batch_size, is_training, num_labels=11, use_crf=False, tag_to_index=None, dropout_prob=0.0,\n",
    "                 use_one_hot_embeddings=False):\n",
    "        super(BertNER, self).__init__()\n",
    "        self.bert = BertModel(config, is_training, use_one_hot_embeddings)\n",
    "        self.cast = P.Cast()\n",
    "        self.weight_init = TruncatedNormal(config.initializer_range)\n",
    "        self.log_softmax = P.LogSoftmax(axis=-1)\n",
    "        self.dtype = config.dtype\n",
    "        self.num_labels = num_labels\n",
    "        self.dense_1 = nn.Dense(config.hidden_size, self.num_labels, weight_init=self.weight_init,\n",
    "                                has_bias=True).to_float(config.compute_type)\n",
    "        self.dropout = nn.Dropout(1 - dropout_prob)\n",
    "        self.reshape = P.Reshape()\n",
    "        self.shape = (-1, config.hidden_size)\n",
    "        self.use_crf = use_crf\n",
    "        self.origin_shape = (batch_size, config.seq_length, self.num_labels)\n",
    "        if use_crf:\n",
    "            if not tag_to_index:\n",
    "                raise Exception(\"The dict for tag-index mapping should be provided for CRF.\")\n",
    "            self.loss = CRF(tag_to_index, batch_size, config.seq_length, is_training)\n",
    "        else:\n",
    "            self.loss = CrossEntropyCalculation(is_training)\n",
    "        self.num_labels = num_labels\n",
    "        self.use_crf = use_crf\n",
    "        \n",
    "    def construct(self, input_ids, input_mask, token_type_id, label_ids):\n",
    "        sequence_output, _, _ = \\\n",
    "            self.bert(input_ids, token_type_id, input_mask)\n",
    "        seq = self.dropout(sequence_output)\n",
    "        seq = self.reshape(seq, self.shape)\n",
    "        logits = self.dense_1(seq)\n",
    "        logits = self.cast(logits, self.dtype)\n",
    "        \n",
    "        if self.use_crf:\n",
    "            return_value = self.reshape(logits, self.origin_shape)\n",
    "            loss = self.loss(return_value, label_ids)\n",
    "        else:\n",
    "            return_value = self.log_softmax(logits)\n",
    "            loss = self.loss(return_value, label_ids, self.num_labels)\n",
    "        return loss"
   ]
  },
  {
   "attachments": {},
   "cell_type": "markdown",
   "metadata": {},
   "source": [
    "### 6. 加载词汇-id映射表"
   ]
  },
  {
   "cell_type": "code",
   "execution_count": 7,
   "metadata": {},
   "outputs": [
    {
     "name": "stdout",
     "output_type": "stream",
     "text": [
      "{'O': 0, 'S_address': 1, 'B_address': 2, 'M_address': 3, 'E_address': 4, 'S_book': 5, 'B_book': 6, 'M_book': 7, 'E_book': 8, 'S_company': 9, 'B_company': 10, 'M_company': 11, 'E_company': 12, 'S_game': 13, 'B_game': 14, 'M_game': 15, 'E_game': 16, 'S_government': 17, 'B_government': 18, 'M_government': 19, 'E_government': 20, 'S_movie': 21, 'B_movie': 22, 'M_movie': 23, 'E_movie': 24, 'S_name': 25, 'B_name': 26, 'M_name': 27, 'E_name': 28, 'S_organization': 29, 'B_organization': 30, 'M_organization': 31, 'E_organization': 32, 'S_position': 33, 'B_position': 34, 'M_position': 35, 'E_position': 36, 'S_scene': 37, 'B_scene': 38, 'M_scene': 39, 'E_scene': 40}\n"
     ]
    }
   ],
   "source": [
    "tag_to_index = json.loads(open(cfg.label2id_file).read())\n",
    "\n",
    "if cfg.use_crf:\n",
    "    print(tag_to_index)\n",
    "    max_val = len(tag_to_index)\n",
    "    tag_to_index[\"<START>\"] = max_val\n",
    "    tag_to_index[\"<STOP>\"] = max_val + 1\n",
    "    number_labels = len(tag_to_index)\n",
    "else:\n",
    "    number_labels = cfg.num_labels"
   ]
  },
  {
   "attachments": {},
   "cell_type": "markdown",
   "metadata": {},
   "source": [
    "### 7. 定义训练函数"
   ]
  },
  {
   "cell_type": "code",
   "execution_count": 8,
   "metadata": {},
   "outputs": [],
   "source": [
    "def train():\n",
    "    '''\n",
    "    finetune function\n",
    "    '''\n",
    "    # BertNER train for sequence labeling\n",
    "\n",
    "    netwithloss = BertNER(bert_net_cfg, cfg.batch_size, True, num_labels=number_labels,\n",
    "                          use_crf=cfg.use_crf,\n",
    "                          tag_to_index=tag_to_index, dropout_prob=0.1)\n",
    "\n",
    "    dataset = get_dataset(data_file=cfg.train_file, schema_file=cfg.schema_file, batch_size=cfg.batch_size)\n",
    "    steps_per_epoch = dataset.get_dataset_size()\n",
    "    print('steps_per_epoch:',steps_per_epoch)\n",
    "\n",
    "    # optimizer\n",
    "    steps_per_epoch = dataset.get_dataset_size()\n",
    "    lr_schedule = BertLearningRate(learning_rate=optimizer_cfg.AdamWeightDecay.learning_rate,\n",
    "                                   end_learning_rate=optimizer_cfg.AdamWeightDecay.end_learning_rate,\n",
    "                                   warmup_steps=int(steps_per_epoch * cfg.epoch_num * 0.1),\n",
    "                                   decay_steps=steps_per_epoch * cfg.epoch_num,\n",
    "                                   power=optimizer_cfg.AdamWeightDecay.power)\n",
    "    params = netwithloss.trainable_params()\n",
    "    decay_params = list(filter(optimizer_cfg.AdamWeightDecay.decay_filter, params))\n",
    "    other_params = list(filter(lambda x: not optimizer_cfg.AdamWeightDecay.decay_filter(x), params))\n",
    "    group_params = [{'params': decay_params, 'weight_decay': optimizer_cfg.AdamWeightDecay.weight_decay},\n",
    "                    {'params': other_params, 'weight_decay': 0.0}]\n",
    "    optimizer = AdamWeightDecay(group_params, lr_schedule, eps=optimizer_cfg.AdamWeightDecay.eps)\n",
    "        \n",
    "    # load checkpoint into network\n",
    "    ckpt_config = CheckpointConfig(save_checkpoint_steps=steps_per_epoch, keep_checkpoint_max=1)\n",
    "    ckpoint_cb = ModelCheckpoint(prefix=cfg.ckpt_prefix, directory=cfg.ckpt_dir, config=ckpt_config)\n",
    "    param_dict = load_checkpoint(cfg.pre_training_ckpt)\n",
    "    load_param_into_net(netwithloss, param_dict)\n",
    "\n",
    "    update_cell = DynamicLossScaleUpdateCell(loss_scale_value=2**32, scale_factor=2, scale_window=1000)\n",
    "    netwithgrads = BertFinetuneCell(netwithloss, optimizer=optimizer, scale_update_cell=update_cell)\n",
    "    model = Model(netwithgrads)\n",
    "    callbacks = [TimeMonitor(dataset.get_dataset_size()), LossMonitor(), ckpoint_cb]\n",
    "    model.train(cfg.epoch_num, dataset, callbacks=callbacks, dataset_sink_mode=True)"
   ]
  },
  {
   "attachments": {},
   "cell_type": "markdown",
   "metadata": {},
   "source": [
    "### 8. 启动训练"
   ]
  },
  {
   "cell_type": "code",
   "execution_count": 9,
   "metadata": {},
   "outputs": [
    {
     "name": "stderr",
     "output_type": "stream",
     "text": [
      "[WARNING] ME(56849:281473502488448,MainProcess):2022-11-30-17:21:06.123.916 [mindspore/common/_decorator.py:37] 'GatherV2' is deprecated from version 1.1 and will be removed in a future version, use 'Gather' instead.\n"
     ]
    },
    {
     "name": "stdout",
     "output_type": "stream",
     "text": [
      "steps_per_epoch: 671\n"
     ]
    },
    {
     "name": "stderr",
     "output_type": "stream",
     "text": [
      "[WARNING] ME(56849:281473502488448,MainProcess):2022-11-30-17:21:27.711.180 [mindspore/train/serialization.py:674] For 'load_param_into_net', remove parameter bert.bert.bert_embedding_lookup.embedding_table's prefix name: bert., continue to load it to net parameter bert.bert_embedding_lookup.embedding_table.\n",
      "[WARNING] ME(56849:281473502488448,MainProcess):2022-11-30-17:21:27.731.763 [mindspore/train/serialization.py:648] For 'load_param_into_net', 3 parameters in the 'net' are not loaded, because they are not in the 'parameter_dict', please check whether the network structure is consistent when training and loading checkpoint.\n",
      "[WARNING] ME(56849:281473502488448,MainProcess):2022-11-30-17:21:27.732.722 [mindspore/train/serialization.py:650] dense_1.weight is not loaded.\n",
      "[WARNING] ME(56849:281473502488448,MainProcess):2022-11-30-17:21:27.733.501 [mindspore/train/serialization.py:650] dense_1.bias is not loaded.\n",
      "[WARNING] ME(56849:281473502488448,MainProcess):2022-11-30-17:21:27.734.243 [mindspore/train/serialization.py:650] loss.transitions is not loaded.\n",
      "[WARNING] DEVICE(56849,ffffa8212780,python):2022-11-30-17:22:55.396.430 [mindspore/ccsrc/plugin/device/ascend/hal/device/kernel_select_ascend.cc:330] FilterRaisedOrReducePrecisionMatchedKernelInfo] Operator:[DropoutGenMask] don't support int64, reduce precision from int64 to int32.\n",
      "[WARNING] DEVICE(56849,ffffa8212780,python):2022-11-30-17:22:55.419.495 [mindspore/ccsrc/plugin/device/ascend/hal/device/kernel_select_ascend.cc:330] FilterRaisedOrReducePrecisionMatchedKernelInfo] Operator:[DropoutGenMask] don't support int64, reduce precision from int64 to int32.\n",
      "[WARNING] DEVICE(56849,ffffa8212780,python):2022-11-30-17:22:55.419.688 [mindspore/ccsrc/plugin/device/ascend/hal/device/kernel_select_ascend.cc:330] FilterRaisedOrReducePrecisionMatchedKernelInfo] Operator:[DropoutGenMask] don't support int64, reduce precision from int64 to int32.\n",
      "[WARNING] DEVICE(56849,ffffa8212780,python):2022-11-30-17:22:55.419.851 [mindspore/ccsrc/plugin/device/ascend/hal/device/kernel_select_ascend.cc:330] FilterRaisedOrReducePrecisionMatchedKernelInfo] Operator:[DropoutGenMask] don't support int64, reduce precision from int64 to int32.\n",
      "[WARNING] DEVICE(56849,ffffa8212780,python):2022-11-30-17:22:55.420.003 [mindspore/ccsrc/plugin/device/ascend/hal/device/kernel_select_ascend.cc:330] FilterRaisedOrReducePrecisionMatchedKernelInfo] Operator:[DropoutGenMask] don't support int64, reduce precision from int64 to int32.\n",
      "[WARNING] DEVICE(56849,ffffa8212780,python):2022-11-30-17:22:55.420.156 [mindspore/ccsrc/plugin/device/ascend/hal/device/kernel_select_ascend.cc:330] FilterRaisedOrReducePrecisionMatchedKernelInfo] Operator:[DropoutGenMask] don't support int64, reduce precision from int64 to int32.\n",
      "[WARNING] DEVICE(56849,ffffa8212780,python):2022-11-30-17:22:55.420.305 [mindspore/ccsrc/plugin/device/ascend/hal/device/kernel_select_ascend.cc:330] FilterRaisedOrReducePrecisionMatchedKernelInfo] Operator:[DropoutGenMask] don't support int64, reduce precision from int64 to int32.\n",
      "[WARNING] DEVICE(56849,ffffa8212780,python):2022-11-30-17:22:55.420.457 [mindspore/ccsrc/plugin/device/ascend/hal/device/kernel_select_ascend.cc:330] FilterRaisedOrReducePrecisionMatchedKernelInfo] Operator:[DropoutGenMask] don't support int64, reduce precision from int64 to int32.\n",
      "[WARNING] DEVICE(56849,ffffa8212780,python):2022-11-30-17:22:55.420.611 [mindspore/ccsrc/plugin/device/ascend/hal/device/kernel_select_ascend.cc:330] FilterRaisedOrReducePrecisionMatchedKernelInfo] Operator:[DropoutGenMask] don't support int64, reduce precision from int64 to int32.\n",
      "[WARNING] DEVICE(56849,ffffa8212780,python):2022-11-30-17:22:55.420.772 [mindspore/ccsrc/plugin/device/ascend/hal/device/kernel_select_ascend.cc:330] FilterRaisedOrReducePrecisionMatchedKernelInfo] Operator:[DropoutGenMask] don't support int64, reduce precision from int64 to int32.\n",
      "[WARNING] DEVICE(56849,ffffa8212780,python):2022-11-30-17:22:55.420.913 [mindspore/ccsrc/plugin/device/ascend/hal/device/kernel_select_ascend.cc:330] FilterRaisedOrReducePrecisionMatchedKernelInfo] Operator:[DropoutGenMask] don't support int64, reduce precision from int64 to int32.\n",
      "[WARNING] DEVICE(56849,ffffa8212780,python):2022-11-30-17:22:55.421.060 [mindspore/ccsrc/plugin/device/ascend/hal/device/kernel_select_ascend.cc:330] FilterRaisedOrReducePrecisionMatchedKernelInfo] Operator:[DropoutGenMask] don't support int64, reduce precision from int64 to int32.\n",
      "[WARNING] DEVICE(56849,ffffa8212780,python):2022-11-30-17:22:55.421.211 [mindspore/ccsrc/plugin/device/ascend/hal/device/kernel_select_ascend.cc:330] FilterRaisedOrReducePrecisionMatchedKernelInfo] Operator:[DropoutGenMask] don't support int64, reduce precision from int64 to int32.\n",
      "[WARNING] DEVICE(56849,ffffa8212780,python):2022-11-30-17:22:55.421.370 [mindspore/ccsrc/plugin/device/ascend/hal/device/kernel_select_ascend.cc:330] FilterRaisedOrReducePrecisionMatchedKernelInfo] Operator:[DropoutGenMask] don't support int64, reduce precision from int64 to int32.\n",
      "[WARNING] DEVICE(56849,ffffa8212780,python):2022-11-30-17:22:55.421.530 [mindspore/ccsrc/plugin/device/ascend/hal/device/kernel_select_ascend.cc:330] FilterRaisedOrReducePrecisionMatchedKernelInfo] Operator:[DropoutGenMask] don't support int64, reduce precision from int64 to int32.\n",
      "[WARNING] DEVICE(56849,ffffa8212780,python):2022-11-30-17:22:55.421.682 [mindspore/ccsrc/plugin/device/ascend/hal/device/kernel_select_ascend.cc:330] FilterRaisedOrReducePrecisionMatchedKernelInfo] Operator:[DropoutGenMask] don't support int64, reduce precision from int64 to int32.\n",
      "[WARNING] DEVICE(56849,ffffa8212780,python):2022-11-30-17:22:55.421.838 [mindspore/ccsrc/plugin/device/ascend/hal/device/kernel_select_ascend.cc:330] FilterRaisedOrReducePrecisionMatchedKernelInfo] Operator:[DropoutGenMask] don't support int64, reduce precision from int64 to int32.\n",
      "[WARNING] DEVICE(56849,ffffa8212780,python):2022-11-30-17:22:55.422.004 [mindspore/ccsrc/plugin/device/ascend/hal/device/kernel_select_ascend.cc:330] FilterRaisedOrReducePrecisionMatchedKernelInfo] Operator:[DropoutGenMask] don't support int64, reduce precision from int64 to int32.\n",
      "[WARNING] DEVICE(56849,ffffa8212780,python):2022-11-30-17:22:55.422.162 [mindspore/ccsrc/plugin/device/ascend/hal/device/kernel_select_ascend.cc:330] FilterRaisedOrReducePrecisionMatchedKernelInfo] Operator:[DropoutGenMask] don't support int64, reduce precision from int64 to int32.\n",
      "[WARNING] DEVICE(56849,ffffa8212780,python):2022-11-30-17:22:55.422.306 [mindspore/ccsrc/plugin/device/ascend/hal/device/kernel_select_ascend.cc:330] FilterRaisedOrReducePrecisionMatchedKernelInfo] Operator:[DropoutGenMask] don't support int64, reduce precision from int64 to int32.\n",
      "[WARNING] DEVICE(56849,ffffa8212780,python):2022-11-30-17:22:55.422.455 [mindspore/ccsrc/plugin/device/ascend/hal/device/kernel_select_ascend.cc:330] FilterRaisedOrReducePrecisionMatchedKernelInfo] Operator:[DropoutGenMask] don't support int64, reduce precision from int64 to int32.\n",
      "[WARNING] DEVICE(56849,ffffa8212780,python):2022-11-30-17:22:55.422.606 [mindspore/ccsrc/plugin/device/ascend/hal/device/kernel_select_ascend.cc:330] FilterRaisedOrReducePrecisionMatchedKernelInfo] Operator:[DropoutGenMask] don't support int64, reduce precision from int64 to int32.\n",
      "[WARNING] DEVICE(56849,ffffa8212780,python):2022-11-30-17:22:55.422.761 [mindspore/ccsrc/plugin/device/ascend/hal/device/kernel_select_ascend.cc:330] FilterRaisedOrReducePrecisionMatchedKernelInfo] Operator:[DropoutGenMask] don't support int64, reduce precision from int64 to int32.\n",
      "[WARNING] DEVICE(56849,ffffa8212780,python):2022-11-30-17:22:55.422.910 [mindspore/ccsrc/plugin/device/ascend/hal/device/kernel_select_ascend.cc:330] FilterRaisedOrReducePrecisionMatchedKernelInfo] Operator:[DropoutGenMask] don't support int64, reduce precision from int64 to int32.\n",
      "[WARNING] DEVICE(56849,ffffa8212780,python):2022-11-30-17:22:55.423.055 [mindspore/ccsrc/plugin/device/ascend/hal/device/kernel_select_ascend.cc:330] FilterRaisedOrReducePrecisionMatchedKernelInfo] Operator:[DropoutGenMask] don't support int64, reduce precision from int64 to int32.\n",
      "[WARNING] DEVICE(56849,ffffa8212780,python):2022-11-30-17:22:55.448.776 [mindspore/ccsrc/plugin/device/ascend/hal/device/kernel_select_ascend.cc:330] FilterRaisedOrReducePrecisionMatchedKernelInfo] Operator:[DropoutGenMask] don't support int64, reduce precision from int64 to int32.\n",
      "[WARNING] DEVICE(56849,ffffa8212780,python):2022-11-30-17:22:55.448.955 [mindspore/ccsrc/plugin/device/ascend/hal/device/kernel_select_ascend.cc:330] FilterRaisedOrReducePrecisionMatchedKernelInfo] Operator:[DropoutGenMask] don't support int64, reduce precision from int64 to int32.\n",
      "[WARNING] DEVICE(56849,ffffa8212780,python):2022-11-30-17:22:55.449.122 [mindspore/ccsrc/plugin/device/ascend/hal/device/kernel_select_ascend.cc:330] FilterRaisedOrReducePrecisionMatchedKernelInfo] Operator:[DropoutGenMask] don't support int64, reduce precision from int64 to int32.\n",
      "[WARNING] DEVICE(56849,ffffa8212780,python):2022-11-30-17:22:55.449.294 [mindspore/ccsrc/plugin/device/ascend/hal/device/kernel_select_ascend.cc:330] FilterRaisedOrReducePrecisionMatchedKernelInfo] Operator:[DropoutGenMask] don't support int64, reduce precision from int64 to int32.\n",
      "[WARNING] DEVICE(56849,ffffa8212780,python):2022-11-30-17:22:55.449.451 [mindspore/ccsrc/plugin/device/ascend/hal/device/kernel_select_ascend.cc:330] FilterRaisedOrReducePrecisionMatchedKernelInfo] Operator:[DropoutGenMask] don't support int64, reduce precision from int64 to int32.\n",
      "[WARNING] DEVICE(56849,ffffa8212780,python):2022-11-30-17:22:55.449.609 [mindspore/ccsrc/plugin/device/ascend/hal/device/kernel_select_ascend.cc:330] FilterRaisedOrReducePrecisionMatchedKernelInfo] Operator:[DropoutGenMask] don't support int64, reduce precision from int64 to int32.\n",
      "[WARNING] DEVICE(56849,ffffa8212780,python):2022-11-30-17:22:55.449.780 [mindspore/ccsrc/plugin/device/ascend/hal/device/kernel_select_ascend.cc:330] FilterRaisedOrReducePrecisionMatchedKernelInfo] Operator:[DropoutGenMask] don't support int64, reduce precision from int64 to int32.\n",
      "[WARNING] DEVICE(56849,ffffa8212780,python):2022-11-30-17:22:55.449.965 [mindspore/ccsrc/plugin/device/ascend/hal/device/kernel_select_ascend.cc:330] FilterRaisedOrReducePrecisionMatchedKernelInfo] Operator:[DropoutGenMask] don't support int64, reduce precision from int64 to int32.\n",
      "[WARNING] DEVICE(56849,ffffa8212780,python):2022-11-30-17:22:55.450.145 [mindspore/ccsrc/plugin/device/ascend/hal/device/kernel_select_ascend.cc:330] FilterRaisedOrReducePrecisionMatchedKernelInfo] Operator:[DropoutGenMask] don't support int64, reduce precision from int64 to int32.\n",
      "[WARNING] DEVICE(56849,ffffa8212780,python):2022-11-30-17:22:55.450.305 [mindspore/ccsrc/plugin/device/ascend/hal/device/kernel_select_ascend.cc:330] FilterRaisedOrReducePrecisionMatchedKernelInfo] Operator:[DropoutGenMask] don't support int64, reduce precision from int64 to int32.\n",
      "[WARNING] DEVICE(56849,ffffa8212780,python):2022-11-30-17:22:55.450.456 [mindspore/ccsrc/plugin/device/ascend/hal/device/kernel_select_ascend.cc:330] FilterRaisedOrReducePrecisionMatchedKernelInfo] Operator:[DropoutGenMask] don't support int64, reduce precision from int64 to int32.\n",
      "[WARNING] DEVICE(56849,ffffa8212780,python):2022-11-30-17:22:55.450.614 [mindspore/ccsrc/plugin/device/ascend/hal/device/kernel_select_ascend.cc:330] FilterRaisedOrReducePrecisionMatchedKernelInfo] Operator:[DropoutGenMask] don't support int64, reduce precision from int64 to int32.\n",
      "[WARNING] DEVICE(56849,ffffa8212780,python):2022-11-30-17:22:55.450.775 [mindspore/ccsrc/plugin/device/ascend/hal/device/kernel_select_ascend.cc:330] FilterRaisedOrReducePrecisionMatchedKernelInfo] Operator:[DropoutGenMask] don't support int64, reduce precision from int64 to int32.\n",
      "[WARNING] DEVICE(56849,ffffa8212780,python):2022-11-30-17:23:05.200.863 [mindspore/ccsrc/plugin/device/ascend/hal/device/kernel_select_ascend.cc:330] FilterRaisedOrReducePrecisionMatchedKernelInfo] Operator:[StridedSliceGrad] don't support int64, reduce precision from int64 to int32.\n",
      "[WARNING] DEVICE(56849,ffffa8212780,python):2022-11-30-17:23:05.213.462 [mindspore/ccsrc/plugin/device/ascend/hal/device/kernel_select_ascend.cc:330] FilterRaisedOrReducePrecisionMatchedKernelInfo] Operator:[StridedSliceGrad] don't support int64, reduce precision from int64 to int32.\n",
      "[WARNING] DEVICE(56849,ffffa8212780,python):2022-11-30-17:23:05.230.879 [mindspore/ccsrc/plugin/device/ascend/hal/device/kernel_select_ascend.cc:330] FilterRaisedOrReducePrecisionMatchedKernelInfo] Operator:[StridedSliceGrad] don't support int64, reduce precision from int64 to int32.\n",
      "[WARNING] DEVICE(56849,ffffa8212780,python):2022-11-30-17:23:05.248.809 [mindspore/ccsrc/plugin/device/ascend/hal/device/kernel_select_ascend.cc:330] FilterRaisedOrReducePrecisionMatchedKernelInfo] Operator:[StridedSliceGrad] don't support int64, reduce precision from int64 to int32.\n",
      "[WARNING] DEVICE(56849,ffffa8212780,python):2022-11-30-17:23:05.266.203 [mindspore/ccsrc/plugin/device/ascend/hal/device/kernel_select_ascend.cc:330] FilterRaisedOrReducePrecisionMatchedKernelInfo] Operator:[StridedSliceGrad] don't support int64, reduce precision from int64 to int32.\n",
      "[WARNING] DEVICE(56849,ffffa8212780,python):2022-11-30-17:23:05.281.767 [mindspore/ccsrc/plugin/device/ascend/hal/device/kernel_select_ascend.cc:330] FilterRaisedOrReducePrecisionMatchedKernelInfo] Operator:[StridedSliceGrad] don't support int64, reduce precision from int64 to int32.\n",
      "[WARNING] DEVICE(56849,ffffa8212780,python):2022-11-30-17:23:05.297.800 [mindspore/ccsrc/plugin/device/ascend/hal/device/kernel_select_ascend.cc:330] FilterRaisedOrReducePrecisionMatchedKernelInfo] Operator:[StridedSliceGrad] don't support int64, reduce precision from int64 to int32.\n",
      "[WARNING] DEVICE(56849,ffffa8212780,python):2022-11-30-17:23:05.313.428 [mindspore/ccsrc/plugin/device/ascend/hal/device/kernel_select_ascend.cc:330] FilterRaisedOrReducePrecisionMatchedKernelInfo] Operator:[StridedSliceGrad] don't support int64, reduce precision from int64 to int32.\n",
      "[WARNING] DEVICE(56849,ffffa8212780,python):2022-11-30-17:23:05.329.449 [mindspore/ccsrc/plugin/device/ascend/hal/device/kernel_select_ascend.cc:330] FilterRaisedOrReducePrecisionMatchedKernelInfo] Operator:[StridedSliceGrad] don't support int64, reduce precision from int64 to int32.\n",
      "[WARNING] DEVICE(56849,ffffa8212780,python):2022-11-30-17:23:05.345.451 [mindspore/ccsrc/plugin/device/ascend/hal/device/kernel_select_ascend.cc:330] FilterRaisedOrReducePrecisionMatchedKernelInfo] Operator:[StridedSliceGrad] don't support int64, reduce precision from int64 to int32.\n",
      "[WARNING] DEVICE(56849,ffffa8212780,python):2022-11-30-17:23:05.372.979 [mindspore/ccsrc/plugin/device/ascend/hal/device/kernel_select_ascend.cc:330] FilterRaisedOrReducePrecisionMatchedKernelInfo] Operator:[StridedSliceGrad] don't support int64, reduce precision from int64 to int32.\n",
      "[WARNING] DEVICE(56849,ffffa8212780,python):2022-11-30-17:23:05.388.704 [mindspore/ccsrc/plugin/device/ascend/hal/device/kernel_select_ascend.cc:330] FilterRaisedOrReducePrecisionMatchedKernelInfo] Operator:[StridedSliceGrad] don't support int64, reduce precision from int64 to int32.\n",
      "[WARNING] DEVICE(56849,ffffa8212780,python):2022-11-30-17:23:05.404.959 [mindspore/ccsrc/plugin/device/ascend/hal/device/kernel_select_ascend.cc:330] FilterRaisedOrReducePrecisionMatchedKernelInfo] Operator:[StridedSliceGrad] don't support int64, reduce precision from int64 to int32.\n",
      "[WARNING] DEVICE(56849,ffffa8212780,python):2022-11-30-17:23:05.420.374 [mindspore/ccsrc/plugin/device/ascend/hal/device/kernel_select_ascend.cc:330] FilterRaisedOrReducePrecisionMatchedKernelInfo] Operator:[StridedSliceGrad] don't support int64, reduce precision from int64 to int32.\n",
      "[WARNING] DEVICE(56849,ffffa8212780,python):2022-11-30-17:23:05.436.042 [mindspore/ccsrc/plugin/device/ascend/hal/device/kernel_select_ascend.cc:330] FilterRaisedOrReducePrecisionMatchedKernelInfo] Operator:[StridedSliceGrad] don't support int64, reduce precision from int64 to int32.\n",
      "[WARNING] DEVICE(56849,ffffa8212780,python):2022-11-30-17:23:05.452.159 [mindspore/ccsrc/plugin/device/ascend/hal/device/kernel_select_ascend.cc:330] FilterRaisedOrReducePrecisionMatchedKernelInfo] Operator:[StridedSliceGrad] don't support int64, reduce precision from int64 to int32.\n",
      "[WARNING] DEVICE(56849,ffffa8212780,python):2022-11-30-17:23:05.472.382 [mindspore/ccsrc/plugin/device/ascend/hal/device/kernel_select_ascend.cc:330] FilterRaisedOrReducePrecisionMatchedKernelInfo] Operator:[StridedSliceGrad] don't support int64, reduce precision from int64 to int32.\n",
      "[WARNING] DEVICE(56849,ffffa8212780,python):2022-11-30-17:23:05.490.300 [mindspore/ccsrc/plugin/device/ascend/hal/device/kernel_select_ascend.cc:330] FilterRaisedOrReducePrecisionMatchedKernelInfo] Operator:[StridedSliceGrad] don't support int64, reduce precision from int64 to int32.\n",
      "[WARNING] DEVICE(56849,ffffa8212780,python):2022-11-30-17:23:05.507.014 [mindspore/ccsrc/plugin/device/ascend/hal/device/kernel_select_ascend.cc:330] FilterRaisedOrReducePrecisionMatchedKernelInfo] Operator:[StridedSliceGrad] don't support int64, reduce precision from int64 to int32.\n",
      "[WARNING] DEVICE(56849,ffffa8212780,python):2022-11-30-17:23:05.522.577 [mindspore/ccsrc/plugin/device/ascend/hal/device/kernel_select_ascend.cc:330] FilterRaisedOrReducePrecisionMatchedKernelInfo] Operator:[StridedSliceGrad] don't support int64, reduce precision from int64 to int32.\n",
      "[WARNING] DEVICE(56849,ffffa8212780,python):2022-11-30-17:23:05.538.951 [mindspore/ccsrc/plugin/device/ascend/hal/device/kernel_select_ascend.cc:330] FilterRaisedOrReducePrecisionMatchedKernelInfo] Operator:[StridedSliceGrad] don't support int64, reduce precision from int64 to int32.\n",
      "[WARNING] DEVICE(56849,ffffa8212780,python):2022-11-30-17:23:05.555.399 [mindspore/ccsrc/plugin/device/ascend/hal/device/kernel_select_ascend.cc:330] FilterRaisedOrReducePrecisionMatchedKernelInfo] Operator:[StridedSliceGrad] don't support int64, reduce precision from int64 to int32.\n",
      "[WARNING] DEVICE(56849,ffffa8212780,python):2022-11-30-17:23:05.571.578 [mindspore/ccsrc/plugin/device/ascend/hal/device/kernel_select_ascend.cc:330] FilterRaisedOrReducePrecisionMatchedKernelInfo] Operator:[StridedSliceGrad] don't support int64, reduce precision from int64 to int32.\n",
      "[WARNING] DEVICE(56849,ffffa8212780,python):2022-11-30-17:23:05.600.365 [mindspore/ccsrc/plugin/device/ascend/hal/device/kernel_select_ascend.cc:330] FilterRaisedOrReducePrecisionMatchedKernelInfo] Operator:[StridedSliceGrad] don't support int64, reduce precision from int64 to int32.\n",
      "[WARNING] DEVICE(56849,ffffa8212780,python):2022-11-30-17:23:05.615.987 [mindspore/ccsrc/plugin/device/ascend/hal/device/kernel_select_ascend.cc:330] FilterRaisedOrReducePrecisionMatchedKernelInfo] Operator:[StridedSliceGrad] don't support int64, reduce precision from int64 to int32.\n",
      "[WARNING] DEVICE(56849,ffffa8212780,python):2022-11-30-17:23:05.633.062 [mindspore/ccsrc/plugin/device/ascend/hal/device/kernel_select_ascend.cc:330] FilterRaisedOrReducePrecisionMatchedKernelInfo] Operator:[StridedSliceGrad] don't support int64, reduce precision from int64 to int32.\n",
      "[WARNING] DEVICE(56849,ffffa8212780,python):2022-11-30-17:23:05.648.462 [mindspore/ccsrc/plugin/device/ascend/hal/device/kernel_select_ascend.cc:330] FilterRaisedOrReducePrecisionMatchedKernelInfo] Operator:[StridedSliceGrad] don't support int64, reduce precision from int64 to int32.\n",
      "[WARNING] DEVICE(56849,ffffa8212780,python):2022-11-30-17:23:05.665.360 [mindspore/ccsrc/plugin/device/ascend/hal/device/kernel_select_ascend.cc:330] FilterRaisedOrReducePrecisionMatchedKernelInfo] Operator:[StridedSliceGrad] don't support int64, reduce precision from int64 to int32.\n",
      "[WARNING] DEVICE(56849,ffffa8212780,python):2022-11-30-17:23:05.682.265 [mindspore/ccsrc/plugin/device/ascend/hal/device/kernel_select_ascend.cc:330] FilterRaisedOrReducePrecisionMatchedKernelInfo] Operator:[StridedSliceGrad] don't support int64, reduce precision from int64 to int32.\n",
      "[WARNING] DEVICE(56849,ffffa8212780,python):2022-11-30-17:23:05.697.989 [mindspore/ccsrc/plugin/device/ascend/hal/device/kernel_select_ascend.cc:330] FilterRaisedOrReducePrecisionMatchedKernelInfo] Operator:[StridedSliceGrad] don't support int64, reduce precision from int64 to int32.\n",
      "[WARNING] DEVICE(56849,ffffa8212780,python):2022-11-30-17:23:05.713.313 [mindspore/ccsrc/plugin/device/ascend/hal/device/kernel_select_ascend.cc:330] FilterRaisedOrReducePrecisionMatchedKernelInfo] Operator:[StridedSliceGrad] don't support int64, reduce precision from int64 to int32.\n",
      "[WARNING] DEVICE(56849,ffffa8212780,python):2022-11-30-17:23:05.727.918 [mindspore/ccsrc/plugin/device/ascend/hal/device/kernel_select_ascend.cc:330] FilterRaisedOrReducePrecisionMatchedKernelInfo] Operator:[StridedSliceGrad] don't support int64, reduce precision from int64 to int32.\n",
      "[WARNING] DEVICE(56849,ffffa8212780,python):2022-11-30-17:23:05.743.317 [mindspore/ccsrc/plugin/device/ascend/hal/device/kernel_select_ascend.cc:330] FilterRaisedOrReducePrecisionMatchedKernelInfo] Operator:[StridedSliceGrad] don't support int64, reduce precision from int64 to int32.\n",
      "[WARNING] DEVICE(56849,ffffa8212780,python):2022-11-30-17:23:05.759.434 [mindspore/ccsrc/plugin/device/ascend/hal/device/kernel_select_ascend.cc:330] FilterRaisedOrReducePrecisionMatchedKernelInfo] Operator:[StridedSliceGrad] don't support int64, reduce precision from int64 to int32.\n",
      "[WARNING] DEVICE(56849,ffffa8212780,python):2022-11-30-17:23:05.775.068 [mindspore/ccsrc/plugin/device/ascend/hal/device/kernel_select_ascend.cc:330] FilterRaisedOrReducePrecisionMatchedKernelInfo] Operator:[StridedSliceGrad] don't support int64, reduce precision from int64 to int32.\n",
      "[WARNING] DEVICE(56849,ffffa8212780,python):2022-11-30-17:23:05.791.583 [mindspore/ccsrc/plugin/device/ascend/hal/device/kernel_select_ascend.cc:330] FilterRaisedOrReducePrecisionMatchedKernelInfo] Operator:[StridedSliceGrad] don't support int64, reduce precision from int64 to int32.\n",
      "[WARNING] DEVICE(56849,ffffa8212780,python):2022-11-30-17:23:05.807.164 [mindspore/ccsrc/plugin/device/ascend/hal/device/kernel_select_ascend.cc:330] FilterRaisedOrReducePrecisionMatchedKernelInfo] Operator:[StridedSliceGrad] don't support int64, reduce precision from int64 to int32.\n",
      "[WARNING] DEVICE(56849,ffffa8212780,python):2022-11-30-17:23:05.822.696 [mindspore/ccsrc/plugin/device/ascend/hal/device/kernel_select_ascend.cc:330] FilterRaisedOrReducePrecisionMatchedKernelInfo] Operator:[StridedSliceGrad] don't support int64, reduce precision from int64 to int32.\n",
      "[WARNING] DEVICE(56849,ffffa8212780,python):2022-11-30-17:23:05.838.226 [mindspore/ccsrc/plugin/device/ascend/hal/device/kernel_select_ascend.cc:330] FilterRaisedOrReducePrecisionMatchedKernelInfo] Operator:[StridedSliceGrad] don't support int64, reduce precision from int64 to int32.\n",
      "[WARNING] DEVICE(56849,ffffa8212780,python):2022-11-30-17:23:05.854.455 [mindspore/ccsrc/plugin/device/ascend/hal/device/kernel_select_ascend.cc:330] FilterRaisedOrReducePrecisionMatchedKernelInfo] Operator:[StridedSliceGrad] don't support int64, reduce precision from int64 to int32.\n",
      "[WARNING] DEVICE(56849,ffffa8212780,python):2022-11-30-17:23:05.869.429 [mindspore/ccsrc/plugin/device/ascend/hal/device/kernel_select_ascend.cc:330] FilterRaisedOrReducePrecisionMatchedKernelInfo] Operator:[StridedSliceGrad] don't support int64, reduce precision from int64 to int32.\n",
      "[WARNING] DEVICE(56849,ffffa8212780,python):2022-11-30-17:23:05.884.777 [mindspore/ccsrc/plugin/device/ascend/hal/device/kernel_select_ascend.cc:330] FilterRaisedOrReducePrecisionMatchedKernelInfo] Operator:[StridedSliceGrad] don't support int64, reduce precision from int64 to int32.\n",
      "[WARNING] DEVICE(56849,ffffa8212780,python):2022-11-30-17:23:05.899.946 [mindspore/ccsrc/plugin/device/ascend/hal/device/kernel_select_ascend.cc:330] FilterRaisedOrReducePrecisionMatchedKernelInfo] Operator:[StridedSliceGrad] don't support int64, reduce precision from int64 to int32.\n",
      "[WARNING] DEVICE(56849,ffffa8212780,python):2022-11-30-17:23:05.914.819 [mindspore/ccsrc/plugin/device/ascend/hal/device/kernel_select_ascend.cc:330] FilterRaisedOrReducePrecisionMatchedKernelInfo] Operator:[StridedSliceGrad] don't support int64, reduce precision from int64 to int32.\n",
      "[WARNING] DEVICE(56849,ffffa8212780,python):2022-11-30-17:23:05.930.107 [mindspore/ccsrc/plugin/device/ascend/hal/device/kernel_select_ascend.cc:330] FilterRaisedOrReducePrecisionMatchedKernelInfo] Operator:[StridedSliceGrad] don't support int64, reduce precision from int64 to int32.\n",
      "[WARNING] DEVICE(56849,ffffa8212780,python):2022-11-30-17:23:05.945.508 [mindspore/ccsrc/plugin/device/ascend/hal/device/kernel_select_ascend.cc:330] FilterRaisedOrReducePrecisionMatchedKernelInfo] Operator:[StridedSliceGrad] don't support int64, reduce precision from int64 to int32.\n",
      "[WARNING] DEVICE(56849,ffffa8212780,python):2022-11-30-17:23:05.961.404 [mindspore/ccsrc/plugin/device/ascend/hal/device/kernel_select_ascend.cc:330] FilterRaisedOrReducePrecisionMatchedKernelInfo] Operator:[StridedSliceGrad] don't support int64, reduce precision from int64 to int32.\n",
      "[WARNING] DEVICE(56849,ffffa8212780,python):2022-11-30-17:23:05.976.492 [mindspore/ccsrc/plugin/device/ascend/hal/device/kernel_select_ascend.cc:330] FilterRaisedOrReducePrecisionMatchedKernelInfo] Operator:[StridedSliceGrad] don't support int64, reduce precision from int64 to int32.\n",
      "[WARNING] DEVICE(56849,ffffa8212780,python):2022-11-30-17:23:05.991.846 [mindspore/ccsrc/plugin/device/ascend/hal/device/kernel_select_ascend.cc:330] FilterRaisedOrReducePrecisionMatchedKernelInfo] Operator:[StridedSliceGrad] don't support int64, reduce precision from int64 to int32.\n",
      "[WARNING] DEVICE(56849,ffffa8212780,python):2022-11-30-17:23:06.006.697 [mindspore/ccsrc/plugin/device/ascend/hal/device/kernel_select_ascend.cc:330] FilterRaisedOrReducePrecisionMatchedKernelInfo] Operator:[StridedSliceGrad] don't support int64, reduce precision from int64 to int32.\n",
      "[WARNING] DEVICE(56849,ffffa8212780,python):2022-11-30-17:23:06.022.033 [mindspore/ccsrc/plugin/device/ascend/hal/device/kernel_select_ascend.cc:330] FilterRaisedOrReducePrecisionMatchedKernelInfo] Operator:[StridedSliceGrad] don't support int64, reduce precision from int64 to int32.\n",
      "[WARNING] DEVICE(56849,ffffa8212780,python):2022-11-30-17:23:06.037.685 [mindspore/ccsrc/plugin/device/ascend/hal/device/kernel_select_ascend.cc:330] FilterRaisedOrReducePrecisionMatchedKernelInfo] Operator:[StridedSliceGrad] don't support int64, reduce precision from int64 to int32.\n",
      "[WARNING] DEVICE(56849,ffffa8212780,python):2022-11-30-17:23:06.067.443 [mindspore/ccsrc/plugin/device/ascend/hal/device/kernel_select_ascend.cc:330] FilterRaisedOrReducePrecisionMatchedKernelInfo] Operator:[StridedSliceGrad] don't support int64, reduce precision from int64 to int32.\n",
      "[WARNING] DEVICE(56849,ffffa8212780,python):2022-11-30-17:23:06.083.643 [mindspore/ccsrc/plugin/device/ascend/hal/device/kernel_select_ascend.cc:330] FilterRaisedOrReducePrecisionMatchedKernelInfo] Operator:[StridedSliceGrad] don't support int64, reduce precision from int64 to int32.\n",
      "[WARNING] DEVICE(56849,ffffa8212780,python):2022-11-30-17:23:06.099.542 [mindspore/ccsrc/plugin/device/ascend/hal/device/kernel_select_ascend.cc:330] FilterRaisedOrReducePrecisionMatchedKernelInfo] Operator:[StridedSliceGrad] don't support int64, reduce precision from int64 to int32.\n",
      "[WARNING] DEVICE(56849,ffffa8212780,python):2022-11-30-17:23:06.116.410 [mindspore/ccsrc/plugin/device/ascend/hal/device/kernel_select_ascend.cc:330] FilterRaisedOrReducePrecisionMatchedKernelInfo] Operator:[StridedSliceGrad] don't support int64, reduce precision from int64 to int32.\n",
      "[WARNING] DEVICE(56849,ffffa8212780,python):2022-11-30-17:23:06.131.950 [mindspore/ccsrc/plugin/device/ascend/hal/device/kernel_select_ascend.cc:330] FilterRaisedOrReducePrecisionMatchedKernelInfo] Operator:[StridedSliceGrad] don't support int64, reduce precision from int64 to int32.\n",
      "[WARNING] DEVICE(56849,ffffa8212780,python):2022-11-30-17:23:06.147.782 [mindspore/ccsrc/plugin/device/ascend/hal/device/kernel_select_ascend.cc:330] FilterRaisedOrReducePrecisionMatchedKernelInfo] Operator:[StridedSliceGrad] don't support int64, reduce precision from int64 to int32.\n",
      "[WARNING] DEVICE(56849,ffffa8212780,python):2022-11-30-17:23:06.167.210 [mindspore/ccsrc/plugin/device/ascend/hal/device/kernel_select_ascend.cc:330] FilterRaisedOrReducePrecisionMatchedKernelInfo] Operator:[StridedSliceGrad] don't support int64, reduce precision from int64 to int32.\n",
      "[WARNING] DEVICE(56849,ffffa8212780,python):2022-11-30-17:23:06.185.535 [mindspore/ccsrc/plugin/device/ascend/hal/device/kernel_select_ascend.cc:330] FilterRaisedOrReducePrecisionMatchedKernelInfo] Operator:[StridedSliceGrad] don't support int64, reduce precision from int64 to int32.\n",
      "[WARNING] DEVICE(56849,ffffa8212780,python):2022-11-30-17:23:06.200.805 [mindspore/ccsrc/plugin/device/ascend/hal/device/kernel_select_ascend.cc:330] FilterRaisedOrReducePrecisionMatchedKernelInfo] Operator:[StridedSliceGrad] don't support int64, reduce precision from int64 to int32.\n",
      "[WARNING] DEVICE(56849,ffffa8212780,python):2022-11-30-17:23:06.216.000 [mindspore/ccsrc/plugin/device/ascend/hal/device/kernel_select_ascend.cc:330] FilterRaisedOrReducePrecisionMatchedKernelInfo] Operator:[StridedSliceGrad] don't support int64, reduce precision from int64 to int32.\n",
      "[WARNING] DEVICE(56849,ffffa8212780,python):2022-11-30-17:23:06.231.479 [mindspore/ccsrc/plugin/device/ascend/hal/device/kernel_select_ascend.cc:330] FilterRaisedOrReducePrecisionMatchedKernelInfo] Operator:[StridedSliceGrad] don't support int64, reduce precision from int64 to int32.\n",
      "[WARNING] DEVICE(56849,ffffa8212780,python):2022-11-30-17:23:06.247.555 [mindspore/ccsrc/plugin/device/ascend/hal/device/kernel_select_ascend.cc:330] FilterRaisedOrReducePrecisionMatchedKernelInfo] Operator:[StridedSliceGrad] don't support int64, reduce precision from int64 to int32.\n",
      "[WARNING] DEVICE(56849,ffffa8212780,python):2022-11-30-17:23:06.285.983 [mindspore/ccsrc/plugin/device/ascend/hal/device/kernel_select_ascend.cc:330] FilterRaisedOrReducePrecisionMatchedKernelInfo] Operator:[StridedSliceGrad] don't support int64, reduce precision from int64 to int32.\n",
      "[WARNING] DEVICE(56849,ffffa8212780,python):2022-11-30-17:23:06.328.311 [mindspore/ccsrc/plugin/device/ascend/hal/device/kernel_select_ascend.cc:330] FilterRaisedOrReducePrecisionMatchedKernelInfo] Operator:[StridedSliceGrad] don't support int64, reduce precision from int64 to int32.\n",
      "[WARNING] DEVICE(56849,ffffa8212780,python):2022-11-30-17:23:06.343.991 [mindspore/ccsrc/plugin/device/ascend/hal/device/kernel_select_ascend.cc:330] FilterRaisedOrReducePrecisionMatchedKernelInfo] Operator:[StridedSliceGrad] don't support int64, reduce precision from int64 to int32.\n",
      "[WARNING] DEVICE(56849,ffffa8212780,python):2022-11-30-17:23:06.361.299 [mindspore/ccsrc/plugin/device/ascend/hal/device/kernel_select_ascend.cc:330] FilterRaisedOrReducePrecisionMatchedKernelInfo] Operator:[StridedSliceGrad] don't support int64, reduce precision from int64 to int32.\n",
      "[WARNING] DEVICE(56849,ffffa8212780,python):2022-11-30-17:23:06.379.021 [mindspore/ccsrc/plugin/device/ascend/hal/device/kernel_select_ascend.cc:330] FilterRaisedOrReducePrecisionMatchedKernelInfo] Operator:[StridedSliceGrad] don't support int64, reduce precision from int64 to int32.\n",
      "[WARNING] DEVICE(56849,ffffa8212780,python):2022-11-30-17:23:06.394.721 [mindspore/ccsrc/plugin/device/ascend/hal/device/kernel_select_ascend.cc:330] FilterRaisedOrReducePrecisionMatchedKernelInfo] Operator:[StridedSliceGrad] don't support int64, reduce precision from int64 to int32.\n",
      "[WARNING] DEVICE(56849,ffffa8212780,python):2022-11-30-17:23:06.410.746 [mindspore/ccsrc/plugin/device/ascend/hal/device/kernel_select_ascend.cc:330] FilterRaisedOrReducePrecisionMatchedKernelInfo] Operator:[StridedSliceGrad] don't support int64, reduce precision from int64 to int32.\n",
      "[WARNING] DEVICE(56849,ffffa8212780,python):2022-11-30-17:23:06.427.064 [mindspore/ccsrc/plugin/device/ascend/hal/device/kernel_select_ascend.cc:330] FilterRaisedOrReducePrecisionMatchedKernelInfo] Operator:[StridedSliceGrad] don't support int64, reduce precision from int64 to int32.\n",
      "[WARNING] DEVICE(56849,ffffa8212780,python):2022-11-30-17:23:06.442.298 [mindspore/ccsrc/plugin/device/ascend/hal/device/kernel_select_ascend.cc:330] FilterRaisedOrReducePrecisionMatchedKernelInfo] Operator:[StridedSliceGrad] don't support int64, reduce precision from int64 to int32.\n",
      "[WARNING] DEVICE(56849,ffffa8212780,python):2022-11-30-17:23:06.458.400 [mindspore/ccsrc/plugin/device/ascend/hal/device/kernel_select_ascend.cc:330] FilterRaisedOrReducePrecisionMatchedKernelInfo] Operator:[StridedSliceGrad] don't support int64, reduce precision from int64 to int32.\n",
      "[WARNING] DEVICE(56849,ffffa8212780,python):2022-11-30-17:23:06.476.039 [mindspore/ccsrc/plugin/device/ascend/hal/device/kernel_select_ascend.cc:330] FilterRaisedOrReducePrecisionMatchedKernelInfo] Operator:[StridedSliceGrad] don't support int64, reduce precision from int64 to int32.\n",
      "[WARNING] DEVICE(56849,ffffa8212780,python):2022-11-30-17:23:06.492.933 [mindspore/ccsrc/plugin/device/ascend/hal/device/kernel_select_ascend.cc:330] FilterRaisedOrReducePrecisionMatchedKernelInfo] Operator:[StridedSliceGrad] don't support int64, reduce precision from int64 to int32.\n",
      "[WARNING] DEVICE(56849,ffffa8212780,python):2022-11-30-17:23:06.510.068 [mindspore/ccsrc/plugin/device/ascend/hal/device/kernel_select_ascend.cc:330] FilterRaisedOrReducePrecisionMatchedKernelInfo] Operator:[StridedSliceGrad] don't support int64, reduce precision from int64 to int32.\n",
      "[WARNING] DEVICE(56849,ffffa8212780,python):2022-11-30-17:23:06.525.068 [mindspore/ccsrc/plugin/device/ascend/hal/device/kernel_select_ascend.cc:330] FilterRaisedOrReducePrecisionMatchedKernelInfo] Operator:[StridedSliceGrad] don't support int64, reduce precision from int64 to int32.\n",
      "[WARNING] DEVICE(56849,ffffa8212780,python):2022-11-30-17:23:06.540.740 [mindspore/ccsrc/plugin/device/ascend/hal/device/kernel_select_ascend.cc:330] FilterRaisedOrReducePrecisionMatchedKernelInfo] Operator:[StridedSliceGrad] don't support int64, reduce precision from int64 to int32.\n",
      "[WARNING] DEVICE(56849,ffffa8212780,python):2022-11-30-17:23:06.556.279 [mindspore/ccsrc/plugin/device/ascend/hal/device/kernel_select_ascend.cc:330] FilterRaisedOrReducePrecisionMatchedKernelInfo] Operator:[StridedSliceGrad] don't support int64, reduce precision from int64 to int32.\n",
      "[WARNING] DEVICE(56849,ffffa8212780,python):2022-11-30-17:23:06.572.001 [mindspore/ccsrc/plugin/device/ascend/hal/device/kernel_select_ascend.cc:330] FilterRaisedOrReducePrecisionMatchedKernelInfo] Operator:[StridedSliceGrad] don't support int64, reduce precision from int64 to int32.\n",
      "[WARNING] DEVICE(56849,ffffa8212780,python):2022-11-30-17:23:06.588.494 [mindspore/ccsrc/plugin/device/ascend/hal/device/kernel_select_ascend.cc:330] FilterRaisedOrReducePrecisionMatchedKernelInfo] Operator:[StridedSliceGrad] don't support int64, reduce precision from int64 to int32.\n",
      "[WARNING] DEVICE(56849,ffffa8212780,python):2022-11-30-17:23:06.604.434 [mindspore/ccsrc/plugin/device/ascend/hal/device/kernel_select_ascend.cc:330] FilterRaisedOrReducePrecisionMatchedKernelInfo] Operator:[StridedSliceGrad] don't support int64, reduce precision from int64 to int32.\n",
      "[WARNING] DEVICE(56849,ffffa8212780,python):2022-11-30-17:23:06.619.764 [mindspore/ccsrc/plugin/device/ascend/hal/device/kernel_select_ascend.cc:330] FilterRaisedOrReducePrecisionMatchedKernelInfo] Operator:[StridedSliceGrad] don't support int64, reduce precision from int64 to int32.\n",
      "[WARNING] DEVICE(56849,ffffa8212780,python):2022-11-30-17:23:06.635.715 [mindspore/ccsrc/plugin/device/ascend/hal/device/kernel_select_ascend.cc:330] FilterRaisedOrReducePrecisionMatchedKernelInfo] Operator:[StridedSliceGrad] don't support int64, reduce precision from int64 to int32.\n",
      "[WARNING] DEVICE(56849,ffffa8212780,python):2022-11-30-17:23:06.651.530 [mindspore/ccsrc/plugin/device/ascend/hal/device/kernel_select_ascend.cc:330] FilterRaisedOrReducePrecisionMatchedKernelInfo] Operator:[StridedSliceGrad] don't support int64, reduce precision from int64 to int32.\n",
      "[WARNING] DEVICE(56849,ffffa8212780,python):2022-11-30-17:23:06.667.029 [mindspore/ccsrc/plugin/device/ascend/hal/device/kernel_select_ascend.cc:330] FilterRaisedOrReducePrecisionMatchedKernelInfo] Operator:[StridedSliceGrad] don't support int64, reduce precision from int64 to int32.\n",
      "[WARNING] DEVICE(56849,ffffa8212780,python):2022-11-30-17:23:06.682.508 [mindspore/ccsrc/plugin/device/ascend/hal/device/kernel_select_ascend.cc:330] FilterRaisedOrReducePrecisionMatchedKernelInfo] Operator:[StridedSliceGrad] don't support int64, reduce precision from int64 to int32.\n",
      "[WARNING] DEVICE(56849,ffffa8212780,python):2022-11-30-17:23:06.699.339 [mindspore/ccsrc/plugin/device/ascend/hal/device/kernel_select_ascend.cc:330] FilterRaisedOrReducePrecisionMatchedKernelInfo] Operator:[StridedSliceGrad] don't support int64, reduce precision from int64 to int32.\n",
      "[WARNING] DEVICE(56849,ffffa8212780,python):2022-11-30-17:23:06.715.195 [mindspore/ccsrc/plugin/device/ascend/hal/device/kernel_select_ascend.cc:330] FilterRaisedOrReducePrecisionMatchedKernelInfo] Operator:[StridedSliceGrad] don't support int64, reduce precision from int64 to int32.\n",
      "[WARNING] DEVICE(56849,ffffa8212780,python):2022-11-30-17:23:06.730.591 [mindspore/ccsrc/plugin/device/ascend/hal/device/kernel_select_ascend.cc:330] FilterRaisedOrReducePrecisionMatchedKernelInfo] Operator:[StridedSliceGrad] don't support int64, reduce precision from int64 to int32.\n",
      "[WARNING] DEVICE(56849,ffffa8212780,python):2022-11-30-17:23:06.746.316 [mindspore/ccsrc/plugin/device/ascend/hal/device/kernel_select_ascend.cc:330] FilterRaisedOrReducePrecisionMatchedKernelInfo] Operator:[StridedSliceGrad] don't support int64, reduce precision from int64 to int32.\n",
      "[WARNING] DEVICE(56849,ffffa8212780,python):2022-11-30-17:23:06.761.906 [mindspore/ccsrc/plugin/device/ascend/hal/device/kernel_select_ascend.cc:330] FilterRaisedOrReducePrecisionMatchedKernelInfo] Operator:[StridedSliceGrad] don't support int64, reduce precision from int64 to int32.\n",
      "[WARNING] DEVICE(56849,ffffa8212780,python):2022-11-30-17:23:06.777.153 [mindspore/ccsrc/plugin/device/ascend/hal/device/kernel_select_ascend.cc:330] FilterRaisedOrReducePrecisionMatchedKernelInfo] Operator:[StridedSliceGrad] don't support int64, reduce precision from int64 to int32.\n",
      "[WARNING] DEVICE(56849,ffffa8212780,python):2022-11-30-17:23:06.795.895 [mindspore/ccsrc/plugin/device/ascend/hal/device/kernel_select_ascend.cc:330] FilterRaisedOrReducePrecisionMatchedKernelInfo] Operator:[StridedSliceGrad] don't support int64, reduce precision from int64 to int32.\n",
      "[WARNING] DEVICE(56849,ffffa8212780,python):2022-11-30-17:23:06.815.682 [mindspore/ccsrc/plugin/device/ascend/hal/device/kernel_select_ascend.cc:330] FilterRaisedOrReducePrecisionMatchedKernelInfo] Operator:[StridedSliceGrad] don't support int64, reduce precision from int64 to int32.\n",
      "[WARNING] DEVICE(56849,ffffa8212780,python):2022-11-30-17:23:06.831.688 [mindspore/ccsrc/plugin/device/ascend/hal/device/kernel_select_ascend.cc:330] FilterRaisedOrReducePrecisionMatchedKernelInfo] Operator:[StridedSliceGrad] don't support int64, reduce precision from int64 to int32.\n",
      "[WARNING] DEVICE(56849,ffffa8212780,python):2022-11-30-17:23:06.846.983 [mindspore/ccsrc/plugin/device/ascend/hal/device/kernel_select_ascend.cc:330] FilterRaisedOrReducePrecisionMatchedKernelInfo] Operator:[StridedSliceGrad] don't support int64, reduce precision from int64 to int32.\n",
      "[WARNING] DEVICE(56849,ffffa8212780,python):2022-11-30-17:23:06.868.530 [mindspore/ccsrc/plugin/device/ascend/hal/device/kernel_select_ascend.cc:330] FilterRaisedOrReducePrecisionMatchedKernelInfo] Operator:[StridedSliceGrad] don't support int64, reduce precision from int64 to int32.\n",
      "[WARNING] DEVICE(56849,ffffa8212780,python):2022-11-30-17:23:06.885.715 [mindspore/ccsrc/plugin/device/ascend/hal/device/kernel_select_ascend.cc:330] FilterRaisedOrReducePrecisionMatchedKernelInfo] Operator:[StridedSliceGrad] don't support int64, reduce precision from int64 to int32.\n",
      "[WARNING] DEVICE(56849,ffffa8212780,python):2022-11-30-17:23:06.900.952 [mindspore/ccsrc/plugin/device/ascend/hal/device/kernel_select_ascend.cc:330] FilterRaisedOrReducePrecisionMatchedKernelInfo] Operator:[StridedSliceGrad] don't support int64, reduce precision from int64 to int32.\n",
      "[WARNING] DEVICE(56849,ffffa8212780,python):2022-11-30-17:23:06.916.311 [mindspore/ccsrc/plugin/device/ascend/hal/device/kernel_select_ascend.cc:330] FilterRaisedOrReducePrecisionMatchedKernelInfo] Operator:[StridedSliceGrad] don't support int64, reduce precision from int64 to int32.\n",
      "[WARNING] DEVICE(56849,ffffa8212780,python):2022-11-30-17:23:06.932.004 [mindspore/ccsrc/plugin/device/ascend/hal/device/kernel_select_ascend.cc:330] FilterRaisedOrReducePrecisionMatchedKernelInfo] Operator:[StridedSliceGrad] don't support int64, reduce precision from int64 to int32.\n",
      "[WARNING] DEVICE(56849,ffffa8212780,python):2022-11-30-17:23:06.947.616 [mindspore/ccsrc/plugin/device/ascend/hal/device/kernel_select_ascend.cc:330] FilterRaisedOrReducePrecisionMatchedKernelInfo] Operator:[StridedSliceGrad] don't support int64, reduce precision from int64 to int32.\n",
      "[WARNING] DEVICE(56849,ffffa8212780,python):2022-11-30-17:23:06.963.293 [mindspore/ccsrc/plugin/device/ascend/hal/device/kernel_select_ascend.cc:330] FilterRaisedOrReducePrecisionMatchedKernelInfo] Operator:[StridedSliceGrad] don't support int64, reduce precision from int64 to int32.\n",
      "[WARNING] DEVICE(56849,ffffa8212780,python):2022-11-30-17:23:06.978.400 [mindspore/ccsrc/plugin/device/ascend/hal/device/kernel_select_ascend.cc:330] FilterRaisedOrReducePrecisionMatchedKernelInfo] Operator:[StridedSliceGrad] don't support int64, reduce precision from int64 to int32.\n",
      "[WARNING] DEVICE(56849,ffffa8212780,python):2022-11-30-17:23:06.998.191 [mindspore/ccsrc/plugin/device/ascend/hal/device/kernel_select_ascend.cc:330] FilterRaisedOrReducePrecisionMatchedKernelInfo] Operator:[StridedSliceGrad] don't support int64, reduce precision from int64 to int32.\n",
      "[WARNING] DEVICE(56849,ffffa8212780,python):2022-11-30-17:23:07.018.186 [mindspore/ccsrc/plugin/device/ascend/hal/device/kernel_select_ascend.cc:330] FilterRaisedOrReducePrecisionMatchedKernelInfo] Operator:[StridedSliceGrad] don't support int64, reduce precision from int64 to int32.\n",
      "[WARNING] DEVICE(56849,ffffa8212780,python):2022-11-30-17:23:07.034.067 [mindspore/ccsrc/plugin/device/ascend/hal/device/kernel_select_ascend.cc:330] FilterRaisedOrReducePrecisionMatchedKernelInfo] Operator:[StridedSliceGrad] don't support int64, reduce precision from int64 to int32.\n",
      "[WARNING] DEVICE(56849,ffffa8212780,python):2022-11-30-17:23:07.051.260 [mindspore/ccsrc/plugin/device/ascend/hal/device/kernel_select_ascend.cc:330] FilterRaisedOrReducePrecisionMatchedKernelInfo] Operator:[StridedSliceGrad] don't support int64, reduce precision from int64 to int32.\n",
      "[WARNING] DEVICE(56849,ffffa8212780,python):2022-11-30-17:23:07.067.491 [mindspore/ccsrc/plugin/device/ascend/hal/device/kernel_select_ascend.cc:330] FilterRaisedOrReducePrecisionMatchedKernelInfo] Operator:[StridedSliceGrad] don't support int64, reduce precision from int64 to int32.\n",
      "[WARNING] DEVICE(56849,ffffa8212780,python):2022-11-30-17:23:07.085.991 [mindspore/ccsrc/plugin/device/ascend/hal/device/kernel_select_ascend.cc:330] FilterRaisedOrReducePrecisionMatchedKernelInfo] Operator:[StridedSliceGrad] don't support int64, reduce precision from int64 to int32.\n",
      "[WARNING] DEVICE(56849,ffffa8212780,python):2022-11-30-17:23:07.101.081 [mindspore/ccsrc/plugin/device/ascend/hal/device/kernel_select_ascend.cc:330] FilterRaisedOrReducePrecisionMatchedKernelInfo] Operator:[StridedSliceGrad] don't support int64, reduce precision from int64 to int32.\n",
      "[WARNING] DEVICE(56849,ffffa8212780,python):2022-11-30-17:23:07.116.701 [mindspore/ccsrc/plugin/device/ascend/hal/device/kernel_select_ascend.cc:330] FilterRaisedOrReducePrecisionMatchedKernelInfo] Operator:[StridedSliceGrad] don't support int64, reduce precision from int64 to int32.\n",
      "[WARNING] DEVICE(56849,ffffa8212780,python):2022-11-30-17:23:07.132.860 [mindspore/ccsrc/plugin/device/ascend/hal/device/kernel_select_ascend.cc:330] FilterRaisedOrReducePrecisionMatchedKernelInfo] Operator:[StridedSliceGrad] don't support int64, reduce precision from int64 to int32.\n",
      "[WARNING] DEVICE(56849,ffffa8212780,python):2022-11-30-17:23:07.147.872 [mindspore/ccsrc/plugin/device/ascend/hal/device/kernel_select_ascend.cc:330] FilterRaisedOrReducePrecisionMatchedKernelInfo] Operator:[StridedSliceGrad] don't support int64, reduce precision from int64 to int32.\n",
      "[WARNING] DEVICE(56849,ffffa8212780,python):2022-11-30-17:23:07.165.588 [mindspore/ccsrc/plugin/device/ascend/hal/device/kernel_select_ascend.cc:330] FilterRaisedOrReducePrecisionMatchedKernelInfo] Operator:[StridedSliceGrad] don't support int64, reduce precision from int64 to int32.\n",
      "[WARNING] DEVICE(56849,ffffa8212780,python):2022-11-30-17:23:07.181.613 [mindspore/ccsrc/plugin/device/ascend/hal/device/kernel_select_ascend.cc:330] FilterRaisedOrReducePrecisionMatchedKernelInfo] Operator:[StridedSliceGrad] don't support int64, reduce precision from int64 to int32.\n",
      "[WARNING] DEVICE(56849,ffffa8212780,python):2022-11-30-17:23:07.197.640 [mindspore/ccsrc/plugin/device/ascend/hal/device/kernel_select_ascend.cc:330] FilterRaisedOrReducePrecisionMatchedKernelInfo] Operator:[StridedSliceGrad] don't support int64, reduce precision from int64 to int32.\n",
      "[WARNING] DEVICE(56849,ffffa8212780,python):2022-11-30-17:23:07.212.970 [mindspore/ccsrc/plugin/device/ascend/hal/device/kernel_select_ascend.cc:330] FilterRaisedOrReducePrecisionMatchedKernelInfo] Operator:[StridedSliceGrad] don't support int64, reduce precision from int64 to int32.\n",
      "[WARNING] DEVICE(56849,ffffa8212780,python):2022-11-30-17:23:07.228.870 [mindspore/ccsrc/plugin/device/ascend/hal/device/kernel_select_ascend.cc:330] FilterRaisedOrReducePrecisionMatchedKernelInfo] Operator:[StridedSliceGrad] don't support int64, reduce precision from int64 to int32.\n",
      "[WARNING] DEVICE(56849,ffffa8212780,python):2022-11-30-17:23:07.243.786 [mindspore/ccsrc/plugin/device/ascend/hal/device/kernel_select_ascend.cc:330] FilterRaisedOrReducePrecisionMatchedKernelInfo] Operator:[StridedSliceGrad] don't support int64, reduce precision from int64 to int32.\n",
      "[WARNING] DEVICE(56849,ffffa8212780,python):2022-11-30-17:23:07.259.164 [mindspore/ccsrc/plugin/device/ascend/hal/device/kernel_select_ascend.cc:330] FilterRaisedOrReducePrecisionMatchedKernelInfo] Operator:[StridedSliceGrad] don't support int64, reduce precision from int64 to int32.\n",
      "[WARNING] DEVICE(56849,ffffa8212780,python):2022-11-30-17:23:07.274.673 [mindspore/ccsrc/plugin/device/ascend/hal/device/kernel_select_ascend.cc:330] FilterRaisedOrReducePrecisionMatchedKernelInfo] Operator:[StridedSliceGrad] don't support int64, reduce precision from int64 to int32.\n",
      "[WARNING] DEVICE(56849,ffffa8212780,python):2022-11-30-17:23:07.290.516 [mindspore/ccsrc/plugin/device/ascend/hal/device/kernel_select_ascend.cc:330] FilterRaisedOrReducePrecisionMatchedKernelInfo] Operator:[StridedSliceGrad] don't support int64, reduce precision from int64 to int32.\n",
      "[WARNING] DEVICE(56849,ffffa8212780,python):2022-11-30-17:23:07.307.430 [mindspore/ccsrc/plugin/device/ascend/hal/device/kernel_select_ascend.cc:330] FilterRaisedOrReducePrecisionMatchedKernelInfo] Operator:[StridedSliceGrad] don't support int64, reduce precision from int64 to int32.\n",
      "[WARNING] DEVICE(56849,ffffa8212780,python):2022-11-30-17:23:07.323.457 [mindspore/ccsrc/plugin/device/ascend/hal/device/kernel_select_ascend.cc:330] FilterRaisedOrReducePrecisionMatchedKernelInfo] Operator:[StridedSliceGrad] don't support int64, reduce precision from int64 to int32.\n",
      "[WARNING] DEVICE(56849,ffffa8212780,python):2022-11-30-17:23:07.363.656 [mindspore/ccsrc/plugin/device/ascend/hal/device/kernel_select_ascend.cc:330] FilterRaisedOrReducePrecisionMatchedKernelInfo] Operator:[StridedSliceGrad] don't support int64, reduce precision from int64 to int32.\n",
      "[WARNING] DEVICE(56849,ffffa8212780,python):2022-11-30-17:23:07.405.223 [mindspore/ccsrc/plugin/device/ascend/hal/device/kernel_select_ascend.cc:330] FilterRaisedOrReducePrecisionMatchedKernelInfo] Operator:[StridedSliceGrad] don't support int64, reduce precision from int64 to int32.\n",
      "[WARNING] DEVICE(56849,ffffa8212780,python):2022-11-30-17:23:07.424.615 [mindspore/ccsrc/plugin/device/ascend/hal/device/kernel_select_ascend.cc:330] FilterRaisedOrReducePrecisionMatchedKernelInfo] Operator:[StridedSliceGrad] don't support int64, reduce precision from int64 to int32.\n",
      "[WARNING] DEVICE(56849,ffffa8212780,python):2022-11-30-17:23:18.457.318 [mindspore/ccsrc/plugin/device/ascend/hal/device/kernel_select_ascend.cc:330] FilterRaisedOrReducePrecisionMatchedKernelInfo] Operator:[StridedSliceGrad] don't support int64, reduce precision from int64 to int32.\n"
     ]
    },
    {
     "name": "stdout",
     "output_type": "stream",
     "text": [
      "epoch: 1 step: 671, loss is 7.9893341064453125\n",
      "epoch time: 296343.850 ms, per step time: 441.645 ms\n",
      "epoch: 2 step: 671, loss is 5.506889343261719\n",
      "epoch time: 38091.304 ms, per step time: 56.768 ms\n",
      "epoch: 3 step: 671, loss is 6.724250793457031\n",
      "epoch time: 37854.106 ms, per step time: 56.414 ms\n",
      "epoch: 4 step: 671, loss is 4.642433166503906\n",
      "epoch time: 37574.269 ms, per step time: 55.997 ms\n",
      "epoch: 5 step: 671, loss is 2.9362335205078125\n",
      "epoch time: 39974.301 ms, per step time: 59.574 ms\n"
     ]
    }
   ],
   "source": [
    "train()"
   ]
  },
  {
   "attachments": {},
   "cell_type": "markdown",
   "metadata": {},
   "source": [
    "### 9. 加载离线模型"
   ]
  },
  {
   "cell_type": "code",
   "execution_count": 10,
   "metadata": {},
   "outputs": [],
   "source": [
    "netwithloss = BertNER(bert_net_cfg, 1, False, num_labels=number_labels,\n",
    "                     use_crf=cfg.use_crf,\n",
    "                     tag_to_index=tag_to_index)\n",
    "\n",
    "netwithloss.set_train(False)\n",
    "param_dict = load_checkpoint(cfg.finetune_ckpt)\n",
    "load_param_into_net(netwithloss, param_dict)\n",
    "model = Model(netwithloss)\n",
    "\n",
    "tokenizer_ = tokenization.FullTokenizer(vocab_file=cfg.vocab_file)"
   ]
  },
  {
   "attachments": {},
   "cell_type": "markdown",
   "metadata": {},
   "source": [
    "### 10. 定义测试集评估函数"
   ]
  },
  {
   "cell_type": "code",
   "execution_count": 11,
   "metadata": {},
   "outputs": [],
   "source": [
    "def eval():\n",
    "    '''\n",
    "    evaluation function\n",
    "    '''\n",
    "\n",
    "    dataset = get_dataset(cfg.eval_file, cfg.schema_file, 1)\n",
    "    columns_list = [\"input_ids\", \"input_mask\", \"segment_ids\", \"label_ids\"]\n",
    "\n",
    "    y_true, y_pred = [], []\n",
    "    for data in dataset.create_dict_iterator():\n",
    "        input_data = []\n",
    "        for i in columns_list:\n",
    "            input_data.append(Tensor(data[i]))\n",
    "        input_ids, input_mask, token_type_id, label_ids = input_data\n",
    "        logits = model.predict(input_ids, input_mask, token_type_id, label_ids)\n",
    "\n",
    "        if cfg.use_crf:\n",
    "            backpointers, best_tag_id = logits\n",
    "            best_path = postprocess(backpointers, best_tag_id)\n",
    "            logit_ids = []\n",
    "            for ele in best_path:\n",
    "                logit_ids.append(ele)\n",
    "        else:\n",
    "            logits = logits.asnumpy()\n",
    "            logit_ids = np.argmax(logits, axis=-1)\n",
    "\n",
    "        for ids in label_ids.asnumpy():\n",
    "            y_true.extend(ids)\n",
    "        for ids in logit_ids:\n",
    "            y_pred.extend(ids)\n",
    "\n",
    "    print(classification_report(y_true, y_pred, labels=range(1, 41), target_names=list(tag_to_index.keys())[1:41]))"
   ]
  },
  {
   "attachments": {},
   "cell_type": "markdown",
   "metadata": {},
   "source": [
    "### 11. 启动测试集评估"
   ]
  },
  {
   "cell_type": "code",
   "execution_count": 12,
   "metadata": {},
   "outputs": [
    {
     "name": "stdout",
     "output_type": "stream",
     "text": [
      "                precision    recall  f1-score   support\n",
      "\n",
      "     S_address       0.00      0.00      0.00         0\n",
      "     B_address       0.74      0.76      0.75       373\n",
      "     M_address       0.81      0.83      0.82       956\n",
      "     E_address       0.70      0.72      0.71       373\n",
      "        S_book       0.00      0.00      0.00         0\n",
      "        B_book       0.84      0.79      0.81       154\n",
      "        M_book       0.93      0.85      0.89       723\n",
      "        E_book       0.82      0.79      0.80       154\n",
      "     S_company       0.00      0.00      0.00         0\n",
      "     B_company       0.88      0.88      0.88       378\n",
      "     M_company       0.81      0.85      0.83       937\n",
      "     E_company       0.83      0.84      0.83       378\n",
      "        S_game       0.00      0.00      0.00         0\n",
      "        B_game       0.82      0.91      0.86       295\n",
      "        M_game       0.83      0.90      0.86      1067\n",
      "        E_game       0.82      0.90      0.85       295\n",
      "  S_government       0.00      0.00      0.00         0\n",
      "  B_government       0.84      0.89      0.86       247\n",
      "  M_government       0.81      0.91      0.86       821\n",
      "  E_government       0.83      0.90      0.86       247\n",
      "       S_movie       0.00      0.00      0.00         0\n",
      "       B_movie       0.89      0.83      0.86       151\n",
      "       M_movie       0.87      0.89      0.88       741\n",
      "       E_movie       0.88      0.81      0.84       151\n",
      "        S_name       0.00      0.00      0.00         0\n",
      "        B_name       0.87      0.91      0.89       465\n",
      "        M_name       0.84      0.88      0.86       556\n",
      "        E_name       0.85      0.91      0.88       465\n",
      "S_organization       0.00      0.00      0.00         0\n",
      "B_organization       0.81      0.85      0.83       367\n",
      "M_organization       0.75      0.67      0.71       720\n",
      "E_organization       0.81      0.83      0.82       367\n",
      "    S_position       0.00      0.00      0.00         0\n",
      "    B_position       0.81      0.82      0.82       433\n",
      "    M_position       0.76      0.74      0.75       335\n",
      "    E_position       0.89      0.91      0.90       433\n",
      "       S_scene       0.00      0.00      0.00         0\n",
      "       B_scene       0.75      0.74      0.74       209\n",
      "       M_scene       0.82      0.80      0.81       513\n",
      "       E_scene       0.75      0.75      0.75       209\n",
      "\n",
      "     micro avg       0.82      0.84      0.83     13513\n",
      "     macro avg       0.62      0.63      0.62     13513\n",
      "  weighted avg       0.82      0.84      0.83     13513\n",
      "\n"
     ]
    }
   ],
   "source": [
    "eval()"
   ]
  },
  {
   "attachments": {},
   "cell_type": "markdown",
   "metadata": {},
   "source": [
    "### 12. 定义在线推理函数"
   ]
  },
  {
   "cell_type": "code",
   "execution_count": 13,
   "metadata": {},
   "outputs": [],
   "source": [
    "def inference(text):\n",
    "    \"\"\"\n",
    "    online inference\n",
    "    \"\"\"\n",
    "    feature = process_one_example_p(tokenizer_, cfg.vocab_file, text, max_seq_len=bert_net_cfg.seq_length)\n",
    "    input_ids, input_mask, token_type_id = feature\n",
    "    input_ids = Tensor(np.array(input_ids), mstype.int32)\n",
    "    input_mask = Tensor(np.array(input_mask), mstype.int32)\n",
    "    token_type_id = Tensor(np.array(token_type_id), mstype.int32)\n",
    "    if cfg.use_crf:\n",
    "        backpointers, best_tag_id = model.predict(input_ids, input_mask, token_type_id, Tensor(1))\n",
    "        best_path = postprocess(backpointers, best_tag_id)\n",
    "        logits = []\n",
    "        for ele in best_path:\n",
    "            logits.extend(ele)\n",
    "        ids = logits\n",
    "    else:\n",
    "        logits = model.predict(input_ids, input_mask, token_type_id, Tensor(1))\n",
    "        ids = logits.asnumpy()\n",
    "        ids = np.argmax(ids, axis=-1)\n",
    "        ids = list(ids)\n",
    "        \n",
    "    res = label_generation(text=text, probs=ids, tag_to_index=tag_to_index)\n",
    "    return res"
   ]
  },
  {
   "attachments": {},
   "cell_type": "markdown",
   "metadata": {},
   "source": [
    "### 13. 在线推理测试"
   ]
  },
  {
   "cell_type": "code",
   "execution_count": 14,
   "metadata": {},
   "outputs": [
    {
     "data": {
      "text/plain": [
       "{'name': {'温格': [[0, 1]]},\n",
       " 'organization': {'曼联': [[23, 24]], '枪手': [[27, 28]]}}"
      ]
     },
     "execution_count": 14,
     "metadata": {},
     "output_type": "execute_result"
    }
   ],
   "source": [
    "inference(\"温格的球队终于又踢了一场经典的比赛，2比1战胜曼联之后枪手仍然留在了夺冠集团之内，\")"
   ]
  },
  {
   "cell_type": "code",
   "execution_count": 15,
   "metadata": {},
   "outputs": [
    {
     "data": {
      "text/plain": [
       "{'address': {'文汇路': [[6, 8]]},\n",
       " 'government': {'校': [[34, 34]], '教委': [[38, 39]]}}"
      ]
     },
     "execution_count": 15,
     "metadata": {},
     "output_type": "execute_result"
    }
   ],
   "source": [
    "inference(\"郑阿姨就赶到文汇路排队拿钱，希望能将缴纳的一万余元学费拿回来，顺便找校方或者教委要个说法。\")"
   ]
  },
  {
   "cell_type": "code",
   "execution_count": null,
   "metadata": {},
   "outputs": [],
   "source": []
  },
  {
   "cell_type": "code",
   "execution_count": null,
   "metadata": {},
   "outputs": [],
   "source": []
  }
 ],
 "metadata": {
  "kernelspec": {
   "display_name": "MindSpore",
   "language": "python",
   "name": "mindspore"
  },
  "language_info": {
   "codemirror_mode": {
    "name": "ipython",
    "version": 3
   },
   "file_extension": ".py",
   "mimetype": "text/x-python",
   "name": "python",
   "nbconvert_exporter": "python",
   "pygments_lexer": "ipython3",
   "version": "3.7.6"
  }
 },
 "nbformat": 4,
 "nbformat_minor": 4
}
